{
 "cells": [
  {
   "cell_type": "markdown",
   "metadata": {},
   "source": [
    "# Hotel Demand Project\n",
    "## Team: 5\n",
    "Christian Rose, JP Aspinwall, Zehao Dong, Jingda Xu"
   ]
  },
  {
   "cell_type": "markdown",
   "metadata": {},
   "source": [
    "Problem Statement\n",
    "Given that there is a large number of variables that can present themselves in booking a hotel, with the overall goal being to tradeoff comfort and cost. In order to do this, we’d propose using the above dataset to build a model which predicts the lowest possible cost of stay and the way in which to achieve that cost (based on how the stay is booked and characteristics of the stay such as # of nights and country)."
   ]
  },
  {
   "cell_type": "markdown",
   "metadata": {},
   "source": [
    "# Hotel Demand\n",
    "\n",
    "**Data Source:**https://www.kaggle.com/jessemostipak/hotel-booking-demand\n",
    "\n",
    "**Context:**\n",
    "Have you ever wondered when the best time of year to book a hotel room is? Or the optimal length of stay in order to get the best daily rate? What if you wanted to predict whether or not a hotel was likely to receive a disproportionately high number of special requests?\n",
    "\n",
    "**Dataset used for Analysis:** \n",
    "\n",
    "Dataset Definition"
   ]
  },
  {
   "cell_type": "markdown",
   "metadata": {},
   "source": [
    "**Columns in this Dataset**\n",
    "\n",
    "|Column Name|Description|Type|\n",
    "|--|--|--|\n",
    "|hotel|H1 = Resort Hotel or H2= City Hotel|Categorical|\n",
    "|is_canceled|0 not 1 canceled|Boolean|\n",
    "|lead_time|Number of days that elapsed between the entering date of the booking into the PMS and the arrival date|Integer|\n",
    "|arrival_date_yer|Year of arrival date|string|\n",
    "|arrival_date_month|Month of arrival date|string|\n",
    "|arrival_date_week_number|Week numbber of yaer for arrival|Integer|\n",
    "|arrival_date_day_of_month|Day of arrival date|Integer|\n",
    "|stays_in_weekend_nights|number of weekend nights (saturday or sunday) the guest stays at the hotel|Integer|\n",
    "|stays_in_week_nights|number of week nights (Monday to Friday) the guest stays at the hotel|Integer|\n",
    "|adults|number of adults|Integer|\n",
    "|childern|number of children|Integer|\n",
    "|babdies|number of babies|Integer|\n",
    "|meal|Type of meal booked. Categories are presented in standard hospitality meal packages: Undefined/SC – no meal package; BB – Bed & Breakfast; HB – Half board (breakfast and one other meal – usually dinner); FB – Full board (breakfast, lunch and dinner)|Categorical|\n",
    "|country|Country of origin. Categories are represented in the ISO 3155–3:2013 format|string|\n",
    "|market_segment|Market segment designation. In categories, the term “TA” means “Travel Agents” and “TO” means “Tour Operators”|Categorical|\n",
    "|distribution_channel|Booking distribution channel. The term “TA” means “Travel Agents” and “TO” means “Tour Operators”|Categorical|\n",
    "|is_repeated_guest|Value indicating if the booking name was from a repeated guest (1) or not (0)|Boolean|\n",
    "|previous_cancellations|Number of previous bookings that were cancelled by the customer prior to the current booking|Integer|\n",
    "|previous_bookings_not_canceled|Number of previous bookings not cancelled by the customer prior to the current booking|Integer|\n",
    "|reserved_room_type|Code of room type reserved. Code is presented instead of designation for anonymity reasons.|Categorical|\n",
    "|assigned_room_type|Code for the type of room assigned to the booking. Sometimes the assigned room type differs from the reserved room type due to hotel operation reasons (e.g. overbooking) or by customer request. Code is presented instead of designation for anonymity reasons.|Categorical|\n",
    "|booking_changes|Number of changes/amendments made to the booking from the moment the booking was entered on the PMS until the moment of check-in or cancellation|Integer|\n",
    "|deposit_type|Indication on if the customer made a deposit to guarantee the booking. This variable can assume three categories: No Deposit – no deposit was made; Non Refund – a deposit was made in the value of the total stay cost; Refundable – a deposit was made with a value under the total cost of stay.|Categorical|\n",
    "|agentID| of the travel agency that made the booking|String|\n",
    "|companyID| of the company/entity that made the booking or responsible for paying the booking. ID is presented instead of designation for anonymity reasons|String|\n",
    "|days_in_waiting_list|Number of days the booking was in the waiting list before it was confirmed to the customer customer_type|Integer|\n",
    "|Type of booking|, assuming one of four categories:Contract - when the booking has an allotment or other type of contract associated to it; Group – when the booking is associated to a group; Transient – when the booking is not part of a group or contract, and is not associated to other transient booking; Transient-party – when the booking is transient, but is associated to at least other transient booking|Categorical|\n",
    "|adrAverage| Daily Rate as defined by dividing the sum of all lodging transactions by the total number of staying nights|Numerical|\n",
    "|required_car_parking_spaces|Number of car parking spaces required by the customer|Integer|\n",
    "|total_of_special_requests|Number of special requests made by the customer (e.g. twin bed or high floor)|Integer|\n",
    "|reservation_status|Reservation last status, assuming one of three categories: Canceled – booking was canceled by the customer; Check-Out – customer has checked in but already departed; No-Show – customer did not check-in and did inform the hotel of the reason why|Categorical|\n",
    "|reservation_status_date|Date at which the last status was set. This variable can be used in conjunction with the ReservationStatus to understand when was the booking canceled or when did the customer checked-out of the hotel|Categorical|\n"
   ]
  },
  {
   "cell_type": "code",
   "execution_count": null,
   "metadata": {},
   "outputs": [],
   "source": [
    "!conda install scikit-learn\n",
    "!conda install pandas\n",
    "!conda install seaborn\n",
    "!conda install statsmodels"
   ]
  },
  {
   "cell_type": "code",
   "execution_count": 75,
   "metadata": {},
   "outputs": [],
   "source": [
    "from pyspark.sql.functions import *\n",
    "from pyspark.sql.types import IntegerType\n",
    "from pyspark.ml.feature import RFormula\n",
    "from pyspark.ml.classification import LogisticRegression as pslr\n",
    "from pyspark.ml import Pipeline\n",
    "from pyspark.ml.evaluation import BinaryClassificationEvaluator\n",
    "from pyspark.ml.tuning import ParamGridBuilder as pgb\n",
    "from pyspark.ml.tuning import TrainValidationSplit as ptvs\n",
    "from pyspark.ml.regression import DecisionTreeRegressor\n",
    "from pyspark.ml.evaluation import RegressionEvaluator\n",
    "\n",
    "import statsmodels.api as sm"
   ]
  },
  {
   "cell_type": "code",
   "execution_count": 1,
   "metadata": {},
   "outputs": [],
   "source": [
    "import matplotlib.pyplot as plt\n",
    "from matplotlib.pyplot import figure\n",
    "plt.style.use('ggplot')\n",
    "%matplotlib inline\n",
    "\n",
    "import pandas as pd\n",
    "import numpy as np\n",
    "import seaborn as sns\n",
    "\n",
    "from sklearn.preprocessing import LabelEncoder, StandardScaler \n",
    "from sklearn.tree import DecisionTreeClassifier\n",
    "from sklearn.model_selection import train_test_split\n",
    "from sklearn.linear_model import LinearRegression\n",
    "from sklearn.metrics import accuracy_score, roc_auc_score, roc_curve, confusion_matrix, auc\n",
    "from sklearn.metrics import r2_score\n",
    "from sklearn.model_selection import cross_val_score\n",
    "from sklearn.linear_model import Ridge\n",
    "from sklearn.linear_model import Lasso\n",
    "from sklearn.linear_model import LogisticRegression\n",
    "from sklearn.model_selection import GridSearchCV\n",
    "from sklearn.ensemble import RandomForestRegressor \n",
    "from sklearn.ensemble import AdaBoostRegressor\n",
    "from sklearn import tree\n",
    "from sklearn.preprocessing import LabelEncoder, StandardScaler \n",
    "from sklearn.neural_network import MLPClassifier\n",
    "from sklearn.metrics import r2_score\n",
    "from sklearn.metrics import precision_recall_fscore_support as score"
   ]
  },
  {
   "cell_type": "markdown",
   "metadata": {},
   "source": [
    "### Config Data File Paths"
   ]
  },
  {
   "cell_type": "code",
   "execution_count": 3,
   "metadata": {},
   "outputs": [
    {
     "name": "stdout",
     "output_type": "stream",
     "text": [
      "gs://is843_cr_proj/notebooks/jupyter/data/\n"
     ]
    }
   ],
   "source": [
    "bucket = spark._jsc.hadoopConfiguration().get(\"fs.gs.system.bucket\")\n",
    "data = \"gs://\" + bucket + \"/notebooks/jupyter/data/\"\n",
    "print(data)"
   ]
  },
  {
   "cell_type": "code",
   "execution_count": 4,
   "metadata": {},
   "outputs": [
    {
     "name": "stdout",
     "output_type": "stream",
     "text": [
      "root\n",
      " |-- hotel: string (nullable = true)\n",
      " |-- is_canceled: integer (nullable = true)\n",
      " |-- lead_time: integer (nullable = true)\n",
      " |-- arrival_date_year: integer (nullable = true)\n",
      " |-- arrival_date_month: string (nullable = true)\n",
      " |-- arrival_date_week_number: integer (nullable = true)\n",
      " |-- arrival_date_day_of_month: integer (nullable = true)\n",
      " |-- stays_in_weekend_nights: integer (nullable = true)\n",
      " |-- stays_in_week_nights: integer (nullable = true)\n",
      " |-- adults: integer (nullable = true)\n",
      " |-- children: string (nullable = true)\n",
      " |-- babies: integer (nullable = true)\n",
      " |-- meal: string (nullable = true)\n",
      " |-- country: string (nullable = true)\n",
      " |-- market_segment: string (nullable = true)\n",
      " |-- distribution_channel: string (nullable = true)\n",
      " |-- is_repeated_guest: integer (nullable = true)\n",
      " |-- previous_cancellations: integer (nullable = true)\n",
      " |-- previous_bookings_not_canceled: integer (nullable = true)\n",
      " |-- reserved_room_type: string (nullable = true)\n",
      " |-- assigned_room_type: string (nullable = true)\n",
      " |-- booking_changes: integer (nullable = true)\n",
      " |-- deposit_type: string (nullable = true)\n",
      " |-- agent: integer (nullable = true)\n",
      " |-- company: integer (nullable = true)\n",
      " |-- days_in_waiting_list: integer (nullable = true)\n",
      " |-- customer_type: string (nullable = true)\n",
      " |-- adr: double (nullable = true)\n",
      " |-- required_car_parking_spaces: integer (nullable = true)\n",
      " |-- total_of_special_requests: integer (nullable = true)\n",
      " |-- reservation_status: string (nullable = true)\n",
      " |-- reservation_status_date: timestamp (nullable = true)\n",
      "\n"
     ]
    }
   ],
   "source": [
    "hotel_data = spark.read.format(\"csv\")\\\n",
    "         .option(\"header\", \"true\")\\\n",
    "         .option(\"inferSchema\", \"true\")\\\n",
    "         .option(\"nullValue\", \"NULL\")\\\n",
    "         .load(data + \"hotel_bookings.csv\")\n",
    "\n",
    "# Print the Schema of loaded hotel dataset\n",
    "hotel_data.printSchema()"
   ]
  },
  {
   "cell_type": "markdown",
   "metadata": {},
   "source": [
    "the default type of column 'children' is string, we need to change it to integer"
   ]
  },
  {
   "cell_type": "code",
   "execution_count": 5,
   "metadata": {},
   "outputs": [],
   "source": [
    "hotel_data = hotel_data.withColumn(\"children\", hotel_data[\"children\"].cast(IntegerType()))"
   ]
  },
  {
   "cell_type": "code",
   "execution_count": 6,
   "metadata": {},
   "outputs": [
    {
     "data": {
      "text/plain": [
       "DataFrame[hotel: string, is_canceled: int, lead_time: int, arrival_date_year: int, arrival_date_month: string, arrival_date_week_number: int, arrival_date_day_of_month: int, stays_in_weekend_nights: int, stays_in_week_nights: int, adults: int, children: int, babies: int, meal: string, country: string, market_segment: string, distribution_channel: string, is_repeated_guest: int, previous_cancellations: int, previous_bookings_not_canceled: int, reserved_room_type: string, assigned_room_type: string, booking_changes: int, deposit_type: string, agent: int, company: int, days_in_waiting_list: int, customer_type: string, adr: double, required_car_parking_spaces: int, total_of_special_requests: int, reservation_status: string, reservation_status_date: timestamp]"
      ]
     },
     "execution_count": 6,
     "metadata": {},
     "output_type": "execute_result"
    }
   ],
   "source": [
    "# save the original data and cash the dataframe\n",
    "hotel_backup = hotel_data\n",
    "hotel_data.cache()"
   ]
  },
  {
   "cell_type": "markdown",
   "metadata": {},
   "source": [
    "### Number of rows"
   ]
  },
  {
   "cell_type": "code",
   "execution_count": 9,
   "metadata": {},
   "outputs": [
    {
     "name": "stdout",
     "output_type": "stream",
     "text": [
      "Number of rows in the dataset 119390\n"
     ]
    }
   ],
   "source": [
    "# Print number of records in the dataset. \n",
    "print(\"Number of rows in the dataset {}\".format(hotel_data.count()))"
   ]
  },
  {
   "cell_type": "markdown",
   "metadata": {},
   "source": [
    "### Checking for missing data\n",
    "\n",
    "Count the number of nulls in each column of the dataset"
   ]
  },
  {
   "cell_type": "code",
   "execution_count": 10,
   "metadata": {},
   "outputs": [
    {
     "data": {
      "text/plain": [
       "[('hotel', 0),\n",
       " ('is_canceled', 0),\n",
       " ('lead_time', 0),\n",
       " ('arrival_date_year', 0),\n",
       " ('arrival_date_month', 0),\n",
       " ('arrival_date_week_number', 0),\n",
       " ('arrival_date_day_of_month', 0),\n",
       " ('stays_in_weekend_nights', 0),\n",
       " ('stays_in_week_nights', 0),\n",
       " ('adults', 0),\n",
       " ('children', 4),\n",
       " ('babies', 0),\n",
       " ('meal', 0),\n",
       " ('country', 488),\n",
       " ('market_segment', 0),\n",
       " ('distribution_channel', 0),\n",
       " ('is_repeated_guest', 0),\n",
       " ('previous_cancellations', 0),\n",
       " ('previous_bookings_not_canceled', 0),\n",
       " ('reserved_room_type', 0),\n",
       " ('assigned_room_type', 0),\n",
       " ('booking_changes', 0),\n",
       " ('deposit_type', 0),\n",
       " ('agent', 16340),\n",
       " ('company', 112593),\n",
       " ('days_in_waiting_list', 0),\n",
       " ('customer_type', 0),\n",
       " ('adr', 0),\n",
       " ('required_car_parking_spaces', 0),\n",
       " ('total_of_special_requests', 0),\n",
       " ('reservation_status', 0),\n",
       " ('reservation_status_date', 0)]"
      ]
     },
     "execution_count": 10,
     "metadata": {},
     "output_type": "execute_result"
    }
   ],
   "source": [
    "[(c, hotel_data.where(col(c).isNull()).count()) for c in hotel_data.columns]"
   ]
  },
  {
   "cell_type": "markdown",
   "metadata": {},
   "source": [
    "There are NULL values in 'children', 'country', 'company', and 'agent'. Agent only has 3 non null values that have more than 5% of the total volume of records. 94% of the values in Company are Null."
   ]
  },
  {
   "cell_type": "markdown",
   "metadata": {},
   "source": [
    "### Dropping rows with 0 or less than 0 average daily rate\n",
    "Within the dataset there are 1960 rows where there is an average daily rate of 0.  Our reasonable assumption is that when you book for a hotel room you'll be paying for it.  As such, we'll remove these records from our dataset as part of our pre-processing"
   ]
  },
  {
   "cell_type": "code",
   "execution_count": 7,
   "metadata": {},
   "outputs": [
    {
     "data": {
      "text/plain": [
       "117430"
      ]
     },
     "execution_count": 7,
     "metadata": {},
     "output_type": "execute_result"
    }
   ],
   "source": [
    "hotel_data=hotel_data.where(col('adr')>0)\n",
    "hotel_data.count()"
   ]
  },
  {
   "cell_type": "markdown",
   "metadata": {},
   "source": [
    "### Data Pre-Processing and some Analysis"
   ]
  },
  {
   "cell_type": "markdown",
   "metadata": {},
   "source": [
    "The company column has a low coverage (112k missing values).  This will introduce a lot of noise into our modelling so we'll drop the column.\n",
    "\n",
    "Additionally, we'll correct the null values within the dataset, setting the null children records to be 0 and fill the rows with missing country values as No Country"
   ]
  },
  {
   "cell_type": "code",
   "execution_count": 2,
   "metadata": {},
   "outputs": [
    {
     "data": {
      "text/plain": [
       "117430"
      ]
     },
     "execution_count": 2,
     "metadata": {},
     "output_type": "execute_result"
    }
   ],
   "source": [
    "hotel_pd = hotel_data.toPandas()\n",
    "#hotel_pd = pd.read_csv(\"hotel_bookings.csv\", header='infer')\n",
    "hotel_pd = hotel_pd.drop(['company'], axis = 1)\n",
    "hotel_pd[['children']] = hotel_pd[['children']].fillna(value=0)\n",
    "hotel_pd[['country']] = hotel_pd[['country']].fillna(value='No_Country')\n",
    "hotel_pd[['agent']] = hotel_pd[['agent']].fillna(value='0')\n",
    "len(hotel_pd.index)"
   ]
  },
  {
   "cell_type": "markdown",
   "metadata": {},
   "source": [
    "Our data isn't super friendly to doing any sort of machine based processing and modelling, so in order to support this, we'll need to do a few things\n",
    "\n",
    "- Convert all text based categorical values to numerical\n",
    "- Convert dates to be numerical rather than string"
   ]
  },
  {
   "cell_type": "code",
   "execution_count": 3,
   "metadata": {},
   "outputs": [],
   "source": [
    "label_encoder = LabelEncoder() \n",
    "  \n",
    "# Encode labels in column. \n",
    "hotel_pd['customer_type']= label_encoder.fit_transform(hotel_pd['customer_type']) \n",
    "hotel_pd['assigned_room_type'] = label_encoder.fit_transform(hotel_pd['assigned_room_type'])\n",
    "hotel_pd['reservation_status'] = label_encoder.fit_transform(hotel_pd['reservation_status'])\n",
    "hotel_pd['meal'] = label_encoder.fit_transform(hotel_pd['meal'])\n",
    "hotel_pd['country'] = label_encoder.fit_transform(hotel_pd['country'])\n",
    "hotel_pd['distribution_channel'] = label_encoder.fit_transform(hotel_pd['distribution_channel'])\n",
    "hotel_pd['market_segment'] = label_encoder.fit_transform(hotel_pd['market_segment'])\n",
    "hotel_pd['reserved_room_type'] = label_encoder.fit_transform(hotel_pd['reserved_room_type'])\n",
    "hotel_pd['reservation_status_date'] = label_encoder.fit_transform(hotel_pd['reservation_status_date'])\n",
    "\n",
    "hotel_pd['hotel'] = hotel_pd['hotel'].map({'Resort Hotel':0, 'City Hotel':1})\n",
    "\n",
    "hotel_pd['arrival_date_month'] = hotel_pd['arrival_date_month'].map({'January':1, 'February': 2, 'March':3, 'April':4, 'May':5, 'June':6, 'July':7,\n",
    "                                                            'August':8, 'September':9, 'October':10, 'November':11, 'December':12})"
   ]
  },
  {
   "cell_type": "markdown",
   "metadata": {},
   "source": [
    "Next, we define some functions to flag if the booking is for more than one individual or a single guest"
   ]
  },
  {
   "cell_type": "code",
   "execution_count": 4,
   "metadata": {},
   "outputs": [],
   "source": [
    "def family(df):\n",
    "    if ((df['adults'] > 0) & ((df['children'] > 0)|(df['babies'] > 0))):\n",
    "        val = 1\n",
    "    else:\n",
    "        val = 0\n",
    "    return val"
   ]
  },
  {
   "cell_type": "markdown",
   "metadata": {},
   "source": [
    "We'll next convert the deposit column into two labels\n",
    "\n",
    "- If it costs the customer nothing to cancel the reservation - Refundable or No Deposit given\n",
    "- If it costs the customer something to cancel aka non-refundable"
   ]
  },
  {
   "cell_type": "code",
   "execution_count": 5,
   "metadata": {},
   "outputs": [],
   "source": [
    "def deposit(df):\n",
    "    if ((df['deposit_type'] == 'No Deposit') | (df['deposit_type'] == 'Refundable')):\n",
    "        return 0\n",
    "    else:\n",
    "        return 1"
   ]
  },
  {
   "cell_type": "markdown",
   "metadata": {},
   "source": [
    "Looking closer at the agent column, we can see an overrepresentation of a few agents within the dataset.  There are 330 distinct agents along with a no agent (null) representation in the dataset."
   ]
  },
  {
   "cell_type": "code",
   "execution_count": 39,
   "metadata": {},
   "outputs": [
    {
     "data": {
      "text/plain": [
       "Text(0.5, 0, 'Agent')"
      ]
     },
     "execution_count": 39,
     "metadata": {},
     "output_type": "execute_result"
    },
    {
     "data": {
      "image/png": "[encoded data removed]",
      "text/plain": [
       "<Figure size 432x288 with 1 Axes>"
      ]
     },
     "metadata": {
      "needs_background": "light"
     },
     "output_type": "display_data"
    }
   ],
   "source": [
    "agent_hist = hotel_data.select(col(\"agent\"))\\\n",
    "    .rdd.flatMap(\n",
    "        lambda row: row\n",
    "    ).histogram(50)\n",
    "\n",
    "data = {\n",
    "    'bins': agent_hist[0][:-1],\n",
    "    'freq': agent_hist[1]\n",
    "}\n",
    "\n",
    "plt.bar(data['bins'], data['freq'], width = 2.5 )\n",
    "plt.title('Histogram of Agents')\n",
    "plt.ylabel(\"Count of Agents\")\n",
    "plt.xlabel(\"Agent\")"
   ]
  },
  {
   "cell_type": "markdown",
   "metadata": {},
   "source": [
    "To ensure that agent doesn't have an adverse impact on our modelling we'll look to group the data. Three of the agents capture the largest share of the bookings along with no agent used, we'll account for that by grouping the data.  This will reduce fragmentation later down the line during our modelling"
   ]
  },
  {
   "cell_type": "code",
   "execution_count": 6,
   "metadata": {},
   "outputs": [],
   "source": [
    "def agent_clean(df):\n",
    "    if ((df['agent']!=1)|(df['agent']!=9)|(df['agent']!=240)|(df['agent']!=0)):\n",
    "        val = 4\n",
    "    if (df['agent'] == 9):\n",
    "        val = 1\n",
    "    if (df['agent'] == 240):\n",
    "        val = 2\n",
    "    if (df['agent'] == 1):\n",
    "        val = 3\n",
    "    return val"
   ]
  },
  {
   "cell_type": "markdown",
   "metadata": {},
   "source": [
    "Apply the functions we defined above"
   ]
  },
  {
   "cell_type": "code",
   "execution_count": 7,
   "metadata": {},
   "outputs": [],
   "source": [
    "def transform_data(df):\n",
    "    df[\"is_family\"] = df.apply(family, axis = 1)\n",
    "    df[\"total_customer\"] = df[\"adults\"] + df[\"children\"] + df[\"babies\"]\n",
    "    df[\"deposit_given\"] = df.apply(deposit, axis=1)\n",
    "    df[\"total_nights\"] = df[\"stays_in_weekend_nights\"]+ df[\"stays_in_week_nights\"]\n",
    "    hotel_pd['agent'] = hotel_pd.apply(agent_clean, axis = 1)\n",
    "    return df"
   ]
  },
  {
   "cell_type": "code",
   "execution_count": 8,
   "metadata": {},
   "outputs": [],
   "source": [
    "hotel_pd = transform_data(hotel_pd)"
   ]
  },
  {
   "cell_type": "markdown",
   "metadata": {},
   "source": [
    "Quick look at our data post processing"
   ]
  },
  {
   "cell_type": "code",
   "execution_count": 53,
   "metadata": {},
   "outputs": [
    {
     "data": {
      "text/html": [
       "<div>\n",
       "<style scoped>\n",
       "    .dataframe tbody tr th:only-of-type {\n",
       "        vertical-align: middle;\n",
       "    }\n",
       "\n",
       "    .dataframe tbody tr th {\n",
       "        vertical-align: top;\n",
       "    }\n",
       "\n",
       "    .dataframe thead th {\n",
       "        text-align: right;\n",
       "    }\n",
       "</style>\n",
       "<table border=\"1\" class=\"dataframe\">\n",
       "  <thead>\n",
       "    <tr style=\"text-align: right;\">\n",
       "      <th></th>\n",
       "      <th>hotel</th>\n",
       "      <th>is_canceled</th>\n",
       "      <th>lead_time</th>\n",
       "      <th>arrival_date_year</th>\n",
       "      <th>arrival_date_month</th>\n",
       "      <th>arrival_date_week_number</th>\n",
       "      <th>arrival_date_day_of_month</th>\n",
       "      <th>stays_in_weekend_nights</th>\n",
       "      <th>stays_in_week_nights</th>\n",
       "      <th>adults</th>\n",
       "      <th>...</th>\n",
       "      <th>customer_type</th>\n",
       "      <th>adr</th>\n",
       "      <th>required_car_parking_spaces</th>\n",
       "      <th>total_of_special_requests</th>\n",
       "      <th>reservation_status</th>\n",
       "      <th>reservation_status_date</th>\n",
       "      <th>is_family</th>\n",
       "      <th>total_customer</th>\n",
       "      <th>deposit_given</th>\n",
       "      <th>total_nights</th>\n",
       "    </tr>\n",
       "  </thead>\n",
       "  <tbody>\n",
       "    <tr>\n",
       "      <th>0</th>\n",
       "      <td>0</td>\n",
       "      <td>0</td>\n",
       "      <td>80</td>\n",
       "      <td>2017</td>\n",
       "      <td>3</td>\n",
       "      <td>10</td>\n",
       "      <td>5</td>\n",
       "      <td>12</td>\n",
       "      <td>26</td>\n",
       "      <td>2</td>\n",
       "      <td>...</td>\n",
       "      <td>3</td>\n",
       "      <td>0.26</td>\n",
       "      <td>0</td>\n",
       "      <td>0</td>\n",
       "      <td>1</td>\n",
       "      <td>416</td>\n",
       "      <td>0</td>\n",
       "      <td>2.0</td>\n",
       "      <td>0</td>\n",
       "      <td>38</td>\n",
       "    </tr>\n",
       "    <tr>\n",
       "      <th>1</th>\n",
       "      <td>1</td>\n",
       "      <td>1</td>\n",
       "      <td>37</td>\n",
       "      <td>2016</td>\n",
       "      <td>2</td>\n",
       "      <td>8</td>\n",
       "      <td>20</td>\n",
       "      <td>4</td>\n",
       "      <td>8</td>\n",
       "      <td>1</td>\n",
       "      <td>...</td>\n",
       "      <td>2</td>\n",
       "      <td>0.50</td>\n",
       "      <td>0</td>\n",
       "      <td>0</td>\n",
       "      <td>0</td>\n",
       "      <td>19</td>\n",
       "      <td>0</td>\n",
       "      <td>1.0</td>\n",
       "      <td>0</td>\n",
       "      <td>12</td>\n",
       "    </tr>\n",
       "    <tr>\n",
       "      <th>2</th>\n",
       "      <td>1</td>\n",
       "      <td>1</td>\n",
       "      <td>4</td>\n",
       "      <td>2016</td>\n",
       "      <td>2</td>\n",
       "      <td>9</td>\n",
       "      <td>23</td>\n",
       "      <td>0</td>\n",
       "      <td>2</td>\n",
       "      <td>1</td>\n",
       "      <td>...</td>\n",
       "      <td>2</td>\n",
       "      <td>1.00</td>\n",
       "      <td>0</td>\n",
       "      <td>0</td>\n",
       "      <td>0</td>\n",
       "      <td>293</td>\n",
       "      <td>0</td>\n",
       "      <td>1.0</td>\n",
       "      <td>0</td>\n",
       "      <td>2</td>\n",
       "    </tr>\n",
       "    <tr>\n",
       "      <th>3</th>\n",
       "      <td>1</td>\n",
       "      <td>1</td>\n",
       "      <td>116</td>\n",
       "      <td>2016</td>\n",
       "      <td>2</td>\n",
       "      <td>10</td>\n",
       "      <td>28</td>\n",
       "      <td>2</td>\n",
       "      <td>1</td>\n",
       "      <td>1</td>\n",
       "      <td>...</td>\n",
       "      <td>3</td>\n",
       "      <td>1.00</td>\n",
       "      <td>0</td>\n",
       "      <td>0</td>\n",
       "      <td>2</td>\n",
       "      <td>307</td>\n",
       "      <td>0</td>\n",
       "      <td>1.0</td>\n",
       "      <td>0</td>\n",
       "      <td>3</td>\n",
       "    </tr>\n",
       "    <tr>\n",
       "      <th>4</th>\n",
       "      <td>1</td>\n",
       "      <td>1</td>\n",
       "      <td>116</td>\n",
       "      <td>2016</td>\n",
       "      <td>2</td>\n",
       "      <td>10</td>\n",
       "      <td>28</td>\n",
       "      <td>2</td>\n",
       "      <td>1</td>\n",
       "      <td>1</td>\n",
       "      <td>...</td>\n",
       "      <td>3</td>\n",
       "      <td>1.00</td>\n",
       "      <td>0</td>\n",
       "      <td>0</td>\n",
       "      <td>2</td>\n",
       "      <td>307</td>\n",
       "      <td>0</td>\n",
       "      <td>1.0</td>\n",
       "      <td>0</td>\n",
       "      <td>3</td>\n",
       "    </tr>\n",
       "    <tr>\n",
       "      <th>...</th>\n",
       "      <td>...</td>\n",
       "      <td>...</td>\n",
       "      <td>...</td>\n",
       "      <td>...</td>\n",
       "      <td>...</td>\n",
       "      <td>...</td>\n",
       "      <td>...</td>\n",
       "      <td>...</td>\n",
       "      <td>...</td>\n",
       "      <td>...</td>\n",
       "      <td>...</td>\n",
       "      <td>...</td>\n",
       "      <td>...</td>\n",
       "      <td>...</td>\n",
       "      <td>...</td>\n",
       "      <td>...</td>\n",
       "      <td>...</td>\n",
       "      <td>...</td>\n",
       "      <td>...</td>\n",
       "      <td>...</td>\n",
       "      <td>...</td>\n",
       "    </tr>\n",
       "    <tr>\n",
       "      <th>117425</th>\n",
       "      <td>0</td>\n",
       "      <td>1</td>\n",
       "      <td>378</td>\n",
       "      <td>2017</td>\n",
       "      <td>8</td>\n",
       "      <td>31</td>\n",
       "      <td>1</td>\n",
       "      <td>4</td>\n",
       "      <td>10</td>\n",
       "      <td>2</td>\n",
       "      <td>...</td>\n",
       "      <td>2</td>\n",
       "      <td>450.00</td>\n",
       "      <td>0</td>\n",
       "      <td>0</td>\n",
       "      <td>0</td>\n",
       "      <td>709</td>\n",
       "      <td>0</td>\n",
       "      <td>2.0</td>\n",
       "      <td>0</td>\n",
       "      <td>14</td>\n",
       "    </tr>\n",
       "    <tr>\n",
       "      <th>117426</th>\n",
       "      <td>1</td>\n",
       "      <td>0</td>\n",
       "      <td>81</td>\n",
       "      <td>2016</td>\n",
       "      <td>12</td>\n",
       "      <td>53</td>\n",
       "      <td>31</td>\n",
       "      <td>1</td>\n",
       "      <td>1</td>\n",
       "      <td>2</td>\n",
       "      <td>...</td>\n",
       "      <td>3</td>\n",
       "      <td>451.50</td>\n",
       "      <td>0</td>\n",
       "      <td>4</td>\n",
       "      <td>1</td>\n",
       "      <td>25</td>\n",
       "      <td>1</td>\n",
       "      <td>4.0</td>\n",
       "      <td>0</td>\n",
       "      <td>2</td>\n",
       "    </tr>\n",
       "    <tr>\n",
       "      <th>117427</th>\n",
       "      <td>0</td>\n",
       "      <td>0</td>\n",
       "      <td>1</td>\n",
       "      <td>2015</td>\n",
       "      <td>7</td>\n",
       "      <td>29</td>\n",
       "      <td>15</td>\n",
       "      <td>0</td>\n",
       "      <td>1</td>\n",
       "      <td>2</td>\n",
       "      <td>...</td>\n",
       "      <td>2</td>\n",
       "      <td>508.00</td>\n",
       "      <td>1</td>\n",
       "      <td>0</td>\n",
       "      <td>1</td>\n",
       "      <td>687</td>\n",
       "      <td>0</td>\n",
       "      <td>2.0</td>\n",
       "      <td>0</td>\n",
       "      <td>1</td>\n",
       "    </tr>\n",
       "    <tr>\n",
       "      <th>117428</th>\n",
       "      <td>1</td>\n",
       "      <td>0</td>\n",
       "      <td>0</td>\n",
       "      <td>2017</td>\n",
       "      <td>5</td>\n",
       "      <td>19</td>\n",
       "      <td>9</td>\n",
       "      <td>0</td>\n",
       "      <td>1</td>\n",
       "      <td>1</td>\n",
       "      <td>...</td>\n",
       "      <td>2</td>\n",
       "      <td>510.00</td>\n",
       "      <td>0</td>\n",
       "      <td>0</td>\n",
       "      <td>1</td>\n",
       "      <td>496</td>\n",
       "      <td>0</td>\n",
       "      <td>1.0</td>\n",
       "      <td>0</td>\n",
       "      <td>1</td>\n",
       "    </tr>\n",
       "    <tr>\n",
       "      <th>117429</th>\n",
       "      <td>1</td>\n",
       "      <td>1</td>\n",
       "      <td>35</td>\n",
       "      <td>2016</td>\n",
       "      <td>3</td>\n",
       "      <td>13</td>\n",
       "      <td>25</td>\n",
       "      <td>0</td>\n",
       "      <td>1</td>\n",
       "      <td>2</td>\n",
       "      <td>...</td>\n",
       "      <td>2</td>\n",
       "      <td>5400.00</td>\n",
       "      <td>0</td>\n",
       "      <td>0</td>\n",
       "      <td>0</td>\n",
       "      <td>280</td>\n",
       "      <td>0</td>\n",
       "      <td>2.0</td>\n",
       "      <td>1</td>\n",
       "      <td>1</td>\n",
       "    </tr>\n",
       "  </tbody>\n",
       "</table>\n",
       "<p>117430 rows × 35 columns</p>\n",
       "</div>"
      ],
      "text/plain": [
       "        hotel  is_canceled  lead_time  arrival_date_year  arrival_date_month  \\\n",
       "0           0            0         80               2017                   3   \n",
       "1           1            1         37               2016                   2   \n",
       "2           1            1          4               2016                   2   \n",
       "3           1            1        116               2016                   2   \n",
       "4           1            1        116               2016                   2   \n",
       "...       ...          ...        ...                ...                 ...   \n",
       "117425      0            1        378               2017                   8   \n",
       "117426      1            0         81               2016                  12   \n",
       "117427      0            0          1               2015                   7   \n",
       "117428      1            0          0               2017                   5   \n",
       "117429      1            1         35               2016                   3   \n",
       "\n",
       "        arrival_date_week_number  arrival_date_day_of_month  \\\n",
       "0                             10                          5   \n",
       "1                              8                         20   \n",
       "2                              9                         23   \n",
       "3                             10                         28   \n",
       "4                             10                         28   \n",
       "...                          ...                        ...   \n",
       "117425                        31                          1   \n",
       "117426                        53                         31   \n",
       "117427                        29                         15   \n",
       "117428                        19                          9   \n",
       "117429                        13                         25   \n",
       "\n",
       "        stays_in_weekend_nights  stays_in_week_nights  adults  ...  \\\n",
       "0                            12                    26       2  ...   \n",
       "1                             4                     8       1  ...   \n",
       "2                             0                     2       1  ...   \n",
       "3                             2                     1       1  ...   \n",
       "4                             2                     1       1  ...   \n",
       "...                         ...                   ...     ...  ...   \n",
       "117425                        4                    10       2  ...   \n",
       "117426                        1                     1       2  ...   \n",
       "117427                        0                     1       2  ...   \n",
       "117428                        0                     1       1  ...   \n",
       "117429                        0                     1       2  ...   \n",
       "\n",
       "        customer_type      adr  required_car_parking_spaces  \\\n",
       "0                   3     0.26                            0   \n",
       "1                   2     0.50                            0   \n",
       "2                   2     1.00                            0   \n",
       "3                   3     1.00                            0   \n",
       "4                   3     1.00                            0   \n",
       "...               ...      ...                          ...   \n",
       "117425              2   450.00                            0   \n",
       "117426              3   451.50                            0   \n",
       "117427              2   508.00                            1   \n",
       "117428              2   510.00                            0   \n",
       "117429              2  5400.00                            0   \n",
       "\n",
       "        total_of_special_requests  reservation_status  \\\n",
       "0                               0                   1   \n",
       "1                               0                   0   \n",
       "2                               0                   0   \n",
       "3                               0                   2   \n",
       "4                               0                   2   \n",
       "...                           ...                 ...   \n",
       "117425                          0                   0   \n",
       "117426                          4                   1   \n",
       "117427                          0                   1   \n",
       "117428                          0                   1   \n",
       "117429                          0                   0   \n",
       "\n",
       "        reservation_status_date  is_family  total_customer  deposit_given  \\\n",
       "0                           416          0             2.0              0   \n",
       "1                            19          0             1.0              0   \n",
       "2                           293          0             1.0              0   \n",
       "3                           307          0             1.0              0   \n",
       "4                           307          0             1.0              0   \n",
       "...                         ...        ...             ...            ...   \n",
       "117425                      709          0             2.0              0   \n",
       "117426                       25          1             4.0              0   \n",
       "117427                      687          0             2.0              0   \n",
       "117428                      496          0             1.0              0   \n",
       "117429                      280          0             2.0              1   \n",
       "\n",
       "        total_nights  \n",
       "0                 38  \n",
       "1                 12  \n",
       "2                  2  \n",
       "3                  3  \n",
       "4                  3  \n",
       "...              ...  \n",
       "117425            14  \n",
       "117426             2  \n",
       "117427             1  \n",
       "117428             1  \n",
       "117429             1  \n",
       "\n",
       "[117430 rows x 35 columns]"
      ]
     },
     "execution_count": 53,
     "metadata": {},
     "output_type": "execute_result"
    }
   ],
   "source": [
    "hotel_pd"
   ]
  },
  {
   "cell_type": "markdown",
   "metadata": {},
   "source": [
    "Cleanup the columns we've transformed to more modelling friendly labels prior to starting our modelling"
   ]
  },
  {
   "cell_type": "code",
   "execution_count": 9,
   "metadata": {},
   "outputs": [],
   "source": [
    "hotel_pd = hotel_pd.drop(columns = ['adults', 'babies', 'children', 'deposit_type', 'reservation_status_date'])"
   ]
  },
  {
   "cell_type": "markdown",
   "metadata": {},
   "source": [
    "Finally, cleanup any data that's left over which is null, 0 records but a good safety valve"
   ]
  },
  {
   "cell_type": "code",
   "execution_count": 10,
   "metadata": {},
   "outputs": [],
   "source": [
    "hotel_pd = hotel_pd.dropna(axis = 0)"
   ]
  },
  {
   "cell_type": "code",
   "execution_count": 11,
   "metadata": {},
   "outputs": [
    {
     "data": {
      "text/plain": [
       "117430"
      ]
     },
     "execution_count": 11,
     "metadata": {},
     "output_type": "execute_result"
    }
   ],
   "source": [
    "len(hotel_pd.index)"
   ]
  },
  {
   "cell_type": "markdown",
   "metadata": {},
   "source": [
    "Now that we've cleanse our dataset we'll take a closer look at the correlation within the dataset"
   ]
  },
  {
   "cell_type": "code",
   "execution_count": 29,
   "metadata": {},
   "outputs": [
    {
     "data": {
      "image/png": "[encoded data removed]",
      "text/plain": [
       "<Figure size 1080x720 with 2 Axes>"
      ]
     },
     "metadata": {
      "needs_background": "light"
     },
     "output_type": "display_data"
    }
   ],
   "source": [
    "corr=hotel_pd.corr()\n",
    "plt.figure(figsize=(15,10))\n",
    "sns.heatmap(corr)\n",
    "plt.show()"
   ]
  },
  {
   "cell_type": "markdown",
   "metadata": {},
   "source": [
    "# Modeling\n",
    "\n",
    "## Predicting ADR Using a Linear Regression"
   ]
  },
  {
   "cell_type": "markdown",
   "metadata": {},
   "source": [
    "Our first model is linear and attempts to predict the average daily rate. We start by printing a correlation matrix to determine the significance of each variable"
   ]
  },
  {
   "cell_type": "markdown",
   "metadata": {},
   "source": [
    "Looking more closely at the correlation values for ADR to see where the predictive power of the model might come from.\n",
    "\n",
    "We can see that total customers, room type, and whether or not the booking is for a family have high correlation with a higher ADR "
   ]
  },
  {
   "cell_type": "code",
   "execution_count": 30,
   "metadata": {},
   "outputs": [
    {
     "data": {
      "text/plain": [
       "adr                               1.000000\n",
       "total_customer                    0.413555\n",
       "reserved_room_type                0.412846\n",
       "is_family                         0.319254\n",
       "assigned_room_type                0.306163\n",
       "market_segment                    0.202866\n",
       "arrival_date_year                 0.195525\n",
       "total_of_special_requests         0.180939\n",
       "deposit_given                     0.103853\n",
       "country                           0.100305\n",
       "is_repeated_guest                 0.098120\n",
       "hotel                             0.097482\n",
       "arrival_date_month                0.087403\n",
       "lead_time                         0.086964\n",
       "arrival_date_week_number          0.083721\n",
       "customer_type                     0.077245\n",
       "distribution_channel              0.069900\n",
       "previous_cancellations            0.067797\n",
       "meal                              0.063606\n",
       "previous_bookings_not_canceled    0.060894\n",
       "required_car_parking_spaces       0.058011\n",
       "total_nights                      0.046900\n",
       "stays_in_week_nights              0.045408\n",
       "days_in_waiting_list              0.044363\n",
       "booking_changes                   0.036522\n",
       "reservation_status                0.033762\n",
       "stays_in_weekend_nights           0.033034\n",
       "is_canceled                       0.030554\n",
       "arrival_date_day_of_month         0.030478\n",
       "Name: adr, dtype: float64"
      ]
     },
     "execution_count": 30,
     "metadata": {},
     "output_type": "execute_result"
    }
   ],
   "source": [
    "np.abs(corr).adr.sort_values(ascending=False)"
   ]
  },
  {
   "cell_type": "markdown",
   "metadata": {},
   "source": [
    "choose some resonable variables as independent variables to do the linear regression, and we first create train and test set"
   ]
  },
  {
   "cell_type": "code",
   "execution_count": 42,
   "metadata": {},
   "outputs": [],
   "source": [
    "X = hotel_pd[['reserved_room_type', \n",
    "              'total_customer', \n",
    "              'is_family', \n",
    "              'assigned_room_type', \n",
    "              'arrival_date_year', \n",
    "              'market_segment',\n",
    "              'total_of_special_requests',\n",
    "              'deposit_given',\n",
    "              'lead_time',\n",
    "              'country',\n",
    "              'is_repeated_guest']]\n",
    "y = hotel_pd[['adr']]\n",
    "X_train, X_test, y_train, y_test = train_test_split(X, y, test_size=0.3, random_state=843)"
   ]
  },
  {
   "cell_type": "code",
   "execution_count": 43,
   "metadata": {},
   "outputs": [],
   "source": [
    "#Now we can create the linear model\n",
    "X_train = sm.add_constant(X_train)\n",
    "ols = sm.OLS(y_train, X_train)"
   ]
  },
  {
   "cell_type": "code",
   "execution_count": 44,
   "metadata": {},
   "outputs": [
    {
     "data": {
      "text/html": [
       "<table class=\"simpletable\">\n",
       "<caption>OLS Regression Results</caption>\n",
       "<tr>\n",
       "  <th>Dep. Variable:</th>           <td>adr</td>       <th>  R-squared:         </th>  <td>   0.280</td>  \n",
       "</tr>\n",
       "<tr>\n",
       "  <th>Model:</th>                   <td>OLS</td>       <th>  Adj. R-squared:    </th>  <td>   0.279</td>  \n",
       "</tr>\n",
       "<tr>\n",
       "  <th>Method:</th>             <td>Least Squares</td>  <th>  F-statistic:       </th>  <td>   2900.</td>  \n",
       "</tr>\n",
       "<tr>\n",
       "  <th>Date:</th>             <td>Sun, 26 Apr 2020</td> <th>  Prob (F-statistic):</th>   <td>  0.00</td>   \n",
       "</tr>\n",
       "<tr>\n",
       "  <th>Time:</th>                 <td>16:59:19</td>     <th>  Log-Likelihood:    </th> <td>-4.2523e+05</td>\n",
       "</tr>\n",
       "<tr>\n",
       "  <th>No. Observations:</th>      <td> 82201</td>      <th>  AIC:               </th>  <td>8.505e+05</td> \n",
       "</tr>\n",
       "<tr>\n",
       "  <th>Df Residuals:</th>          <td> 82189</td>      <th>  BIC:               </th>  <td>8.506e+05</td> \n",
       "</tr>\n",
       "<tr>\n",
       "  <th>Df Model:</th>              <td>    11</td>      <th>                     </th>      <td> </td>     \n",
       "</tr>\n",
       "<tr>\n",
       "  <th>Covariance Type:</th>      <td>nonrobust</td>    <th>                     </th>      <td> </td>     \n",
       "</tr>\n",
       "</table>\n",
       "<table class=\"simpletable\">\n",
       "<tr>\n",
       "              <td></td>                 <th>coef</th>     <th>std err</th>      <th>t</th>      <th>P>|t|</th>  <th>[0.025</th>    <th>0.975]</th>  \n",
       "</tr>\n",
       "<tr>\n",
       "  <th>const</th>                     <td>-1.981e+04</td> <td>  435.596</td> <td>  -45.475</td> <td> 0.000</td> <td>-2.07e+04</td> <td> -1.9e+04</td>\n",
       "</tr>\n",
       "<tr>\n",
       "  <th>reserved_room_type</th>        <td>   10.4820</td> <td>    0.167</td> <td>   62.827</td> <td> 0.000</td> <td>   10.155</td> <td>   10.809</td>\n",
       "</tr>\n",
       "<tr>\n",
       "  <th>total_customer</th>            <td>   16.6835</td> <td>    0.333</td> <td>   50.102</td> <td> 0.000</td> <td>   16.031</td> <td>   17.336</td>\n",
       "</tr>\n",
       "<tr>\n",
       "  <th>is_family</th>                 <td>   13.1305</td> <td>    0.745</td> <td>   17.625</td> <td> 0.000</td> <td>   11.670</td> <td>   14.591</td>\n",
       "</tr>\n",
       "<tr>\n",
       "  <th>assigned_room_type</th>        <td>   -3.1036</td> <td>    0.151</td> <td>  -20.514</td> <td> 0.000</td> <td>   -3.400</td> <td>   -2.807</td>\n",
       "</tr>\n",
       "<tr>\n",
       "  <th>arrival_date_year</th>         <td>    9.8493</td> <td>    0.216</td> <td>   45.588</td> <td> 0.000</td> <td>    9.426</td> <td>   10.273</td>\n",
       "</tr>\n",
       "<tr>\n",
       "  <th>market_segment</th>            <td>    3.2168</td> <td>    0.137</td> <td>   23.527</td> <td> 0.000</td> <td>    2.949</td> <td>    3.485</td>\n",
       "</tr>\n",
       "<tr>\n",
       "  <th>total_of_special_requests</th> <td>    3.9849</td> <td>    0.204</td> <td>   19.529</td> <td> 0.000</td> <td>    3.585</td> <td>    4.385</td>\n",
       "</tr>\n",
       "<tr>\n",
       "  <th>deposit_given</th>             <td>    7.1895</td> <td>    0.545</td> <td>   13.183</td> <td> 0.000</td> <td>    6.121</td> <td>    8.258</td>\n",
       "</tr>\n",
       "<tr>\n",
       "  <th>lead_time</th>                 <td>   -0.0477</td> <td>    0.002</td> <td>  -30.872</td> <td> 0.000</td> <td>   -0.051</td> <td>   -0.045</td>\n",
       "</tr>\n",
       "<tr>\n",
       "  <th>country</th>                   <td>    0.0073</td> <td>    0.004</td> <td>    2.005</td> <td> 0.045</td> <td>    0.000</td> <td>    0.014</td>\n",
       "</tr>\n",
       "<tr>\n",
       "  <th>is_repeated_guest</th>         <td>  -12.7999</td> <td>    0.954</td> <td>  -13.419</td> <td> 0.000</td> <td>  -14.669</td> <td>  -10.930</td>\n",
       "</tr>\n",
       "</table>\n",
       "<table class=\"simpletable\">\n",
       "<tr>\n",
       "  <th>Omnibus:</th>       <td>197481.628</td> <th>  Durbin-Watson:     </th>    <td>   2.006</td>    \n",
       "</tr>\n",
       "<tr>\n",
       "  <th>Prob(Omnibus):</th>   <td> 0.000</td>   <th>  Jarque-Bera (JB):  </th> <td>28442214498.065</td>\n",
       "</tr>\n",
       "<tr>\n",
       "  <th>Skew:</th>            <td>23.716</td>   <th>  Prob(JB):          </th>    <td>    0.00</td>    \n",
       "</tr>\n",
       "<tr>\n",
       "  <th>Kurtosis:</th>       <td>2884.310</td>  <th>  Cond. No.          </th>    <td>5.91e+06</td>    \n",
       "</tr>\n",
       "</table><br/><br/>Warnings:<br/>[1] Standard Errors assume that the covariance matrix of the errors is correctly specified.<br/>[2] The condition number is large, 5.91e+06. This might indicate that there are<br/>strong multicollinearity or other numerical problems."
      ],
      "text/plain": [
       "<class 'statsmodels.iolib.summary.Summary'>\n",
       "\"\"\"\n",
       "                            OLS Regression Results                            \n",
       "==============================================================================\n",
       "Dep. Variable:                    adr   R-squared:                       0.280\n",
       "Model:                            OLS   Adj. R-squared:                  0.279\n",
       "Method:                 Least Squares   F-statistic:                     2900.\n",
       "Date:                Sun, 26 Apr 2020   Prob (F-statistic):               0.00\n",
       "Time:                        16:59:19   Log-Likelihood:            -4.2523e+05\n",
       "No. Observations:               82201   AIC:                         8.505e+05\n",
       "Df Residuals:                   82189   BIC:                         8.506e+05\n",
       "Df Model:                          11                                         \n",
       "Covariance Type:            nonrobust                                         \n",
       "=============================================================================================\n",
       "                                coef    std err          t      P>|t|      [0.025      0.975]\n",
       "---------------------------------------------------------------------------------------------\n",
       "const                     -1.981e+04    435.596    -45.475      0.000   -2.07e+04    -1.9e+04\n",
       "reserved_room_type           10.4820      0.167     62.827      0.000      10.155      10.809\n",
       "total_customer               16.6835      0.333     50.102      0.000      16.031      17.336\n",
       "is_family                    13.1305      0.745     17.625      0.000      11.670      14.591\n",
       "assigned_room_type           -3.1036      0.151    -20.514      0.000      -3.400      -2.807\n",
       "arrival_date_year             9.8493      0.216     45.588      0.000       9.426      10.273\n",
       "market_segment                3.2168      0.137     23.527      0.000       2.949       3.485\n",
       "total_of_special_requests     3.9849      0.204     19.529      0.000       3.585       4.385\n",
       "deposit_given                 7.1895      0.545     13.183      0.000       6.121       8.258\n",
       "lead_time                    -0.0477      0.002    -30.872      0.000      -0.051      -0.045\n",
       "country                       0.0073      0.004      2.005      0.045       0.000       0.014\n",
       "is_repeated_guest           -12.7999      0.954    -13.419      0.000     -14.669     -10.930\n",
       "==============================================================================\n",
       "Omnibus:                   197481.628   Durbin-Watson:                   2.006\n",
       "Prob(Omnibus):                  0.000   Jarque-Bera (JB):      28442214498.065\n",
       "Skew:                          23.716   Prob(JB):                         0.00\n",
       "Kurtosis:                    2884.310   Cond. No.                     5.91e+06\n",
       "==============================================================================\n",
       "\n",
       "Warnings:\n",
       "[1] Standard Errors assume that the covariance matrix of the errors is correctly specified.\n",
       "[2] The condition number is large, 5.91e+06. This might indicate that there are\n",
       "strong multicollinearity or other numerical problems.\n",
       "\"\"\""
      ]
     },
     "execution_count": 44,
     "metadata": {},
     "output_type": "execute_result"
    }
   ],
   "source": [
    "#Next we fit the model and get the summary\n",
    "Fitted_ols = ols.fit()\n",
    "Fitted_ols.summary()"
   ]
  },
  {
   "cell_type": "markdown",
   "metadata": {},
   "source": [
    "R squared of this model is very low, so it may not be appropriate to use the linear model fit the data, we use this model to predict on test set and compare the result"
   ]
  },
  {
   "cell_type": "code",
   "execution_count": 45,
   "metadata": {},
   "outputs": [
    {
     "name": "stdout",
     "output_type": "stream",
     "text": [
      "mean squared error: 1482.9577835344787\n"
     ]
    }
   ],
   "source": [
    "X_test = sm.add_constant(X_test)\n",
    "y_pred = Fitted_ols.predict(X_test)\n",
    "print('mean squared error:', np.mean((y_test.values.flatten() - y_pred)**2))"
   ]
  },
  {
   "cell_type": "markdown",
   "metadata": {},
   "source": [
    "Conclusion:from the MSE we can see the model is not so good"
   ]
  },
  {
   "cell_type": "markdown",
   "metadata": {},
   "source": [
    "## Decision Tree Regression To Predict ADR"
   ]
  },
  {
   "cell_type": "markdown",
   "metadata": {},
   "source": [
    "Setup the model"
   ]
  },
  {
   "cell_type": "code",
   "execution_count": 68,
   "metadata": {},
   "outputs": [],
   "source": [
    "supervised = RFormula(formula=\"adr ~ .\")\n",
    "fittedRF = supervised.fit(df)  # fit the transformer\n",
    "preparedDF = fittedRF.transform(df)  # transform"
   ]
  },
  {
   "cell_type": "code",
   "execution_count": 69,
   "metadata": {},
   "outputs": [
    {
     "data": {
      "text/html": [
       "<div>\n",
       "<style scoped>\n",
       "    .dataframe tbody tr th:only-of-type {\n",
       "        vertical-align: middle;\n",
       "    }\n",
       "\n",
       "    .dataframe tbody tr th {\n",
       "        vertical-align: top;\n",
       "    }\n",
       "\n",
       "    .dataframe thead th {\n",
       "        text-align: right;\n",
       "    }\n",
       "</style>\n",
       "<table border=\"1\" class=\"dataframe\">\n",
       "  <thead>\n",
       "    <tr style=\"text-align: right;\">\n",
       "      <th></th>\n",
       "      <th>name</th>\n",
       "    </tr>\n",
       "    <tr>\n",
       "      <th>idx</th>\n",
       "      <th></th>\n",
       "    </tr>\n",
       "  </thead>\n",
       "  <tbody>\n",
       "    <tr>\n",
       "      <th>0</th>\n",
       "      <td>hotel</td>\n",
       "    </tr>\n",
       "    <tr>\n",
       "      <th>1</th>\n",
       "      <td>is_canceled</td>\n",
       "    </tr>\n",
       "    <tr>\n",
       "      <th>2</th>\n",
       "      <td>lead_time</td>\n",
       "    </tr>\n",
       "    <tr>\n",
       "      <th>3</th>\n",
       "      <td>arrival_date_year</td>\n",
       "    </tr>\n",
       "    <tr>\n",
       "      <th>4</th>\n",
       "      <td>arrival_date_month</td>\n",
       "    </tr>\n",
       "  </tbody>\n",
       "</table>\n",
       "</div>"
      ],
      "text/plain": [
       "                   name\n",
       "idx                    \n",
       "0                 hotel\n",
       "1           is_canceled\n",
       "2             lead_time\n",
       "3     arrival_date_year\n",
       "4    arrival_date_month"
      ]
     },
     "execution_count": 69,
     "metadata": {},
     "output_type": "execute_result"
    }
   ],
   "source": [
    "featureCols = pd.DataFrame(preparedDF.schema[\"features\"].metadata[\"ml_attr\"][\"attrs\"][\"numeric\"]).sort_values(\"idx\")\n",
    "featureCols = featureCols.set_index('idx')\n",
    "featureCols.head()"
   ]
  },
  {
   "cell_type": "markdown",
   "metadata": {},
   "source": [
    "Define Test/Train Split"
   ]
  },
  {
   "cell_type": "code",
   "execution_count": 70,
   "metadata": {},
   "outputs": [],
   "source": [
    "train, test = preparedDF.randomSplit([0.7, 0.3], seed = 843)"
   ]
  },
  {
   "cell_type": "code",
   "execution_count": 74,
   "metadata": {},
   "outputs": [],
   "source": [
    "dt = DecisionTreeRegressor(featuresCol ='features', labelCol = 'label')\n",
    "dt_model = dt.fit(train)"
   ]
  },
  {
   "cell_type": "markdown",
   "metadata": {},
   "source": [
    "Predict ADR"
   ]
  },
  {
   "cell_type": "code",
   "execution_count": 76,
   "metadata": {},
   "outputs": [
    {
     "name": "stdout",
     "output_type": "stream",
     "text": [
      "+------------------+-----+--------------------+\n",
      "|        prediction|label|            features|\n",
      "+------------------+-----+--------------------+\n",
      "| 95.18944216529921|123.0|(35,[3,4,5,6,8,9,...|\n",
      "|122.35113785361435|117.9|(35,[3,4,5,6,8,9,...|\n",
      "|180.27408026755856|195.0|(35,[3,4,5,6,8,9,...|\n",
      "|194.27730106100796|150.0|(35,[3,4,5,6,7,8,...|\n",
      "| 95.18944216529921|134.0|(35,[3,4,5,6,8,9,...|\n",
      "+------------------+-----+--------------------+\n",
      "only showing top 5 rows\n",
      "\n"
     ]
    }
   ],
   "source": [
    "#get features after applying trasnformation\n",
    "dt_predictions = dt_model.transform(test)\n",
    "\n",
    "# Select example rows to display.\n",
    "dt_predictions.select(\"prediction\", \"label\", \"features\").show(5)"
   ]
  },
  {
   "cell_type": "markdown",
   "metadata": {},
   "source": [
    "ADR Cannot be reliably predicted leveraging the features we have in this dataset.  Althought this model performs significantly beter than our logistic regression model, it still lacks statistical signficance."
   ]
  },
  {
   "cell_type": "code",
   "execution_count": 77,
   "metadata": {},
   "outputs": [
    {
     "name": "stdout",
     "output_type": "stream",
     "text": [
      "Decision tree approach Root Mean Squared Error (RMSE) on test data = 32.8732\n",
      "Decision tree approach R Square on test data = 0.511064\n"
     ]
    }
   ],
   "source": [
    "from pyspark.ml.evaluation import RegressionEvaluator\n",
    "\n",
    "# Select (prediction, true label) and compute rmse for test set\n",
    "dt_evaluator = RegressionEvaluator(labelCol=\"label\", predictionCol=\"prediction\", metricName=\"rmse\")\n",
    "rmse = dt_evaluator.evaluate(dt_predictions)\n",
    "print(\"Decision tree approach Root Mean Squared Error (RMSE) on test data = %g\" % rmse)\n",
    "\n",
    "dt_evaluator2 = RegressionEvaluator(labelCol=\"label\", predictionCol=\"prediction\", metricName=\"r2\")\n",
    "r2 = dt_evaluator2.evaluate(dt_predictions)\n",
    "print(\"Decision tree approach R Square on test data = %g\" % r2)"
   ]
  },
  {
   "cell_type": "markdown",
   "metadata": {},
   "source": [
    "## Modelling to Predict Whether or Not a Reservation Could Be Cancelled\n",
    "\n",
    "We spent a fair bit of time trying to build and tune a model that could predict the ADR, however the results were all uninspiring.  The first model was one of our better results, as such we took a look at the dataset against and started to work towards predicting whether a reservation would be cancelled or not."
   ]
  },
  {
   "cell_type": "markdown",
   "metadata": {},
   "source": [
    "## Modelling Is Cancelled Going Overboard"
   ]
  },
  {
   "cell_type": "code",
   "execution_count": 57,
   "metadata": {},
   "outputs": [],
   "source": [
    "labels = hotel_pd[[\"is_canceled\"]]\n",
    "ind = hotel_pd.drop([\"is_canceled\"], axis = 1)\n",
    "\n",
    "ind_train, ind_test, labels_train, labels_test = train_test_split(ind, labels, test_size = 0.30, random_state = 737)"
   ]
  },
  {
   "cell_type": "markdown",
   "metadata": {},
   "source": [
    "Define a basic Decision Tree model"
   ]
  },
  {
   "cell_type": "code",
   "execution_count": 58,
   "metadata": {},
   "outputs": [],
   "source": [
    "canceled_dt = DecisionTreeClassifier(max_depth = 10)\n",
    "canceled_dt_model = canceled_dt.fit(ind_train, labels_train) \n",
    "labels_pred = canceled_dt_model.predict(ind_test)"
   ]
  },
  {
   "cell_type": "code",
   "execution_count": 59,
   "metadata": {},
   "outputs": [
    {
     "name": "stdout",
     "output_type": "stream",
     "text": [
      "Decision Tree Model\n",
      "Accuracy Score: 1.0\n",
      "\n",
      "Confusion Matrix:\n",
      " [[22008     0]\n",
      " [    0 13221]]\n",
      "\n",
      "AUC Score: 1.0\n"
     ]
    }
   ],
   "source": [
    "print('Decision Tree Model')\n",
    "\n",
    "print('Accuracy Score: {}\\n\\nConfusion Matrix:\\n {}\\n\\nAUC Score: {}'\n",
    "      .format(accuracy_score(labels_test,labels_pred), confusion_matrix(labels_test,labels_pred), roc_auc_score(labels_test,labels_pred)))"
   ]
  },
  {
   "cell_type": "markdown",
   "metadata": {},
   "source": [
    "Given a perfect performance it's pretty easy to deduce our model is either overfitted or something is wrong with the model.  Looking at the strong correlation between reservation status and cancellation would indicate that to be true"
   ]
  },
  {
   "cell_type": "code",
   "execution_count": 60,
   "metadata": {},
   "outputs": [
    {
     "data": {
      "text/plain": [
       "reservation_status               -0.918026\n",
       "total_of_special_requests        -0.237306\n",
       "required_car_parking_spaces      -0.197504\n",
       "assigned_room_type               -0.172597\n",
       "booking_changes                  -0.144828\n",
       "is_repeated_guest                -0.074563\n",
       "customer_type                    -0.067508\n",
       "reserved_room_type               -0.062360\n",
       "previous_bookings_not_canceled   -0.054862\n",
       "meal                             -0.017644\n",
       "is_family                        -0.013681\n",
       "stays_in_weekend_nights          -0.007100\n",
       "arrival_date_day_of_month        -0.006307\n",
       "arrival_date_week_number          0.009552\n",
       "total_nights                      0.011088\n",
       "arrival_date_month                0.012445\n",
       "arrival_date_year                 0.014097\n",
       "stays_in_week_nights              0.018575\n",
       "adr                               0.030554\n",
       "total_customer                    0.040282\n",
       "market_segment                    0.050855\n",
       "days_in_waiting_list              0.054126\n",
       "previous_cancellations            0.110671\n",
       "hotel                             0.137711\n",
       "distribution_channel              0.165248\n",
       "country                           0.277372\n",
       "lead_time                         0.290542\n",
       "deposit_given                     0.481468\n",
       "is_canceled                       1.000000\n",
       "Name: is_canceled, dtype: float64"
      ]
     },
     "execution_count": 60,
     "metadata": {},
     "output_type": "execute_result"
    }
   ],
   "source": [
    "corr[\"is_canceled\"].sort_values()"
   ]
  },
  {
   "cell_type": "code",
   "execution_count": 12,
   "metadata": {},
   "outputs": [],
   "source": [
    "hotel_pd2 = hotel_pd.drop([\"reservation_status\"], axis=1)\n",
    "labels = hotel_pd2[[\"is_canceled\"]]\n",
    "ind = hotel_pd2.drop([\"is_canceled\"], axis = 1)\n",
    "\n",
    "ind_train, ind_test, labels_train, labels_test = train_test_split(ind, labels, test_size = 0.30, random_state = 737)"
   ]
  },
  {
   "cell_type": "code",
   "execution_count": 62,
   "metadata": {},
   "outputs": [],
   "source": [
    "canceled_dt = DecisionTreeClassifier(max_depth = 10)\n",
    "canceled_dt_model = canceled_dt.fit(ind_train, labels_train) \n",
    "labels_pred = canceled_dt_model.predict(ind_test)"
   ]
  },
  {
   "cell_type": "markdown",
   "metadata": {},
   "source": [
    "This variation of the model performs reasonably well (and realistically given we've removed the hindsight of knowing the reservation was cancelled) with a performance of 83%"
   ]
  },
  {
   "cell_type": "code",
   "execution_count": 63,
   "metadata": {},
   "outputs": [
    {
     "name": "stdout",
     "output_type": "stream",
     "text": [
      "Decision Tree Model\n",
      "Accuracy Score: 0.8449572795140368\n",
      "\n",
      "Confusion Matrix:\n",
      " [[20006  2002]\n",
      " [ 3460  9761]]\n",
      "\n",
      "AUC Score: 0.8236641077028161\n"
     ]
    }
   ],
   "source": [
    "print('Decision Tree Model')\n",
    "\n",
    "print('Accuracy Score: {}\\n\\nConfusion Matrix:\\n {}\\n\\nAUC Score: {}'\n",
    "      .format(accuracy_score(labels_test,labels_pred), confusion_matrix(labels_test,labels_pred), roc_auc_score(labels_test,labels_pred)))"
   ]
  },
  {
   "cell_type": "markdown",
   "metadata": {},
   "source": [
    "k-Fold Cross Validation Definition - https://machinelearningmastery.com/k-fold-cross-validation/\n",
    "\n",
    "tl;dr we resample the dataset into k folds and recreate the same train/test fit (70/30 in our case) then re-train and re-test the model using this data.  We look for the results of the validation to be as close as possible to our model trained using the full dataset.  If the value is substantially lower, that implies our dataset used to build the model created an overfitted model"
   ]
  },
  {
   "cell_type": "code",
   "execution_count": 64,
   "metadata": {},
   "outputs": [
    {
     "name": "stdout",
     "output_type": "stream",
     "text": [
      "cross validation scores: [0.85438842 0.84823601 0.84768856 0.85006083 0.84835766]\n",
      "mean cross validation score: 0.8497462969778686\n",
      "score without cv: 0.853335117577645\n"
     ]
    }
   ],
   "source": [
    "scores = cross_val_score(canceled_dt_model, ind_train, labels_train, cv = 5)\n",
    "print(\"cross validation scores: {}\".format(scores))\n",
    "print(\"mean cross validation score: {}\".format(np.mean(scores)))\n",
    "print(\"score without cv: {}\".format(canceled_dt_model.score(ind_train, labels_train)))"
   ]
  },
  {
   "cell_type": "markdown",
   "metadata": {},
   "source": [
    "Based on the precision, recall, fscore, and support we can see that the predictions are performing much better on the reservations not canceled class rather than the canceled reservation class.  Based on this, we should see if we can bring some paridy to the model and get a stronger classification for predicting whether a reservation will be cancelled.\n",
    "\n",
    "These numbers overall support a pretty good model\n",
    "\n",
    "Precision and Recall Definitions\n",
    "https://en.wikipedia.org/wiki/Precision_and_recall\n",
    "\n",
    "General Definitions\n",
    "https://scikit-learn.org/stable/modules/generated/sklearn.metrics.precision_recall_fscore_support.html"
   ]
  },
  {
   "cell_type": "code",
   "execution_count": 65,
   "metadata": {},
   "outputs": [
    {
     "name": "stdout",
     "output_type": "stream",
     "text": [
      "precision: [0.85255263 0.82980532]\n",
      "recall: [0.90903308 0.73829514]\n",
      "fscore: [0.87988741 0.78138008]\n",
      "support: [22008 13221]\n"
     ]
    }
   ],
   "source": [
    "precision, recall, fscore, support = score(labels_test, labels_pred)\n",
    "\n",
    "print('precision: {}'.format(precision))\n",
    "print('recall: {}'.format(recall))\n",
    "print('fscore: {}'.format(fscore))\n",
    "print('support: {}'.format(support))"
   ]
  },
  {
   "cell_type": "markdown",
   "metadata": {},
   "source": [
    "We can see that the whether a deposit is given is the leading indicator of whether or a reservation is canceled or not.  This lines up with our correlation data almost identically"
   ]
  },
  {
   "cell_type": "code",
   "execution_count": 66,
   "metadata": {},
   "outputs": [
    {
     "data": {
      "text/plain": [
       "<matplotlib.axes._subplots.AxesSubplot at 0x162c11f35c8>"
      ]
     },
     "execution_count": 66,
     "metadata": {},
     "output_type": "execute_result"
    },
    {
     "data": {
      "image/png": "[encoded data removed]",
      "text/plain": [
       "<Figure size 432x288 with 1 Axes>"
      ]
     },
     "metadata": {
      "needs_background": "light"
     },
     "output_type": "display_data"
    }
   ],
   "source": [
    "pd.DataFrame(data = canceled_dt_model.feature_importances_*100,\n",
    "                   columns = [\"Importances\"],\n",
    "                   index = ind_train.columns).sort_values(\"Importances\", ascending = False)[:20].plot(kind = \"barh\", color = \"r\")"
   ]
  },
  {
   "cell_type": "markdown",
   "metadata": {},
   "source": [
    "## Build out a grid search to play with the decision tree parameters\n",
    "\n",
    "Now that we've identified a reasonable feature set, lets see if we can improve the model performance\n",
    "\n",
    "The following parameters are available for tuning in the Decision tree https://scikit-learn.org/stable/modules/generated/sklearn.tree.DecisionTreeClassifier.html"
   ]
  },
  {
   "cell_type": "code",
   "execution_count": 13,
   "metadata": {},
   "outputs": [],
   "source": [
    "param_grid = {'criterion':['gini','entropy'],\n",
    "             'max_depth':[1,2,3,5,6,7,8,9,10,11,12,13,14,15,21],\n",
    "             'splitter':['best','random'],\n",
    "             'min_samples_leaf':[1,2,3,5,8,13,21],\n",
    "             'max_features': ['auto', 'sqrt', 'log2', None]}"
   ]
  },
  {
   "cell_type": "code",
   "execution_count": 14,
   "metadata": {},
   "outputs": [
    {
     "data": {
      "text/plain": [
       "GridSearchCV(cv=None, error_score=nan,\n",
       "             estimator=DecisionTreeClassifier(ccp_alpha=0.0, class_weight=None,\n",
       "                                              criterion='gini', max_depth=None,\n",
       "                                              max_features=None,\n",
       "                                              max_leaf_nodes=None,\n",
       "                                              min_impurity_decrease=0.0,\n",
       "                                              min_impurity_split=None,\n",
       "                                              min_samples_leaf=1,\n",
       "                                              min_samples_split=2,\n",
       "                                              min_weight_fraction_leaf=0.0,\n",
       "                                              presort='deprecated',\n",
       "                                              random_state=None,\n",
       "                                              splitter='best'),\n",
       "             iid='deprecated', n_jobs=None,\n",
       "             param_grid={'criterion': ['gini', 'entropy'],\n",
       "                         'max_depth': [1, 2, 3, 5, 6, 7, 8, 9, 10, 11, 12, 13,\n",
       "                                       14, 15, 21],\n",
       "                         'max_features': ['auto', 'sqrt', 'log2', None],\n",
       "                         'min_samples_leaf': [1, 2, 3, 5, 8, 13, 21],\n",
       "                         'splitter': ['best', 'random']},\n",
       "             pre_dispatch='2*n_jobs', refit=True, return_train_score=False,\n",
       "             scoring=None, verbose=0)"
      ]
     },
     "execution_count": 14,
     "metadata": {},
     "output_type": "execute_result"
    }
   ],
   "source": [
    "canceled_dt = GridSearchCV(DecisionTreeClassifier(), param_grid)\n",
    "canceled_dt.fit(ind_train, labels_train)"
   ]
  },
  {
   "cell_type": "code",
   "execution_count": 15,
   "metadata": {},
   "outputs": [
    {
     "data": {
      "text/plain": [
       "0.8432025914293022"
      ]
     },
     "execution_count": 15,
     "metadata": {},
     "output_type": "execute_result"
    }
   ],
   "source": [
    "pred = canceled_dt.predict(ind_test)\n",
    "labels_pred = canceled_dt.predict_proba(ind_test)[:, 1]\n",
    "performance = roc_auc_score(labels_test, pred)\n",
    "performance"
   ]
  },
  {
   "cell_type": "markdown",
   "metadata": {},
   "source": [
    "There are significant improvements in the overall performance of the model with the hyperparameter tuning.  The false positive classifications has dropped by 670 and we see an uptick in true negatives of ~700.  This model performs classifies significantly better than the original decision tree"
   ]
  },
  {
   "cell_type": "code",
   "execution_count": 70,
   "metadata": {},
   "outputs": [
    {
     "name": "stdout",
     "output_type": "stream",
     "text": [
      "Decision Tree Model\n",
      "Accuracy Score: 0.8579863180902098\n",
      "\n",
      "Confusion Matrix:\n",
      " [[19794  2214]\n",
      " [ 2789 10432]]\n",
      "\n",
      "AUC Score: 0.8442239726016663\n"
     ]
    }
   ],
   "source": [
    "print('Decision Tree Model')\n",
    "\n",
    "print('Accuracy Score: {}\\n\\nConfusion Matrix:\\n {}\\n\\nAUC Score: {}'\n",
    "      .format(accuracy_score(labels_test,pred), confusion_matrix(labels_test,pred), roc_auc_score(labels_test,pred)))"
   ]
  },
  {
   "cell_type": "markdown",
   "metadata": {},
   "source": [
    "We can see a small degradation for the not canceled class (first column) and a measurable improvement in the model performance for the cancelled class."
   ]
  },
  {
   "cell_type": "code",
   "execution_count": 71,
   "metadata": {},
   "outputs": [
    {
     "name": "stdout",
     "output_type": "stream",
     "text": [
      "precision: [0.87650002 0.82492488]\n",
      "recall: [0.89940022 0.78904773]\n",
      "fscore: [0.88780247 0.80658754]\n",
      "support: [22008 13221]\n"
     ]
    }
   ],
   "source": [
    "precision, recall, fscore, support = score(labels_test, pred)\n",
    "\n",
    "print('precision: {}'.format(precision))\n",
    "print('recall: {}'.format(recall))\n",
    "print('fscore: {}'.format(fscore))\n",
    "print('support: {}'.format(support))"
   ]
  },
  {
   "cell_type": "markdown",
   "metadata": {},
   "source": [
    "We validate the overall model using a K-folds cross validation.  We can see minimal degradation of the AUC of the model when applying the cross validation meaning the model is not that overfitted."
   ]
  },
  {
   "cell_type": "code",
   "execution_count": 72,
   "metadata": {},
   "outputs": [
    {
     "name": "stdout",
     "output_type": "stream",
     "text": [
      "mean cross validation score: 0.8500504863960346\n",
      "score without cv: 0.853335117577645\n"
     ]
    }
   ],
   "source": [
    "scores = cross_val_score(canceled_dt_model, ind_train, labels_train, cv = 10)\n",
    "print(\"mean cross validation score: {}\".format(np.mean(scores)))\n",
    "print(\"score without cv: {}\".format(canceled_dt_model.score(ind_train, labels_train)))"
   ]
  },
  {
   "cell_type": "markdown",
   "metadata": {},
   "source": [
    "Here we can see an interesting change in feature importances where deposit given goes down in weight"
   ]
  },
  {
   "cell_type": "code",
   "execution_count": 73,
   "metadata": {},
   "outputs": [
    {
     "data": {
      "text/plain": [
       "<matplotlib.axes._subplots.AxesSubplot at 0x162bf965108>"
      ]
     },
     "execution_count": 73,
     "metadata": {},
     "output_type": "execute_result"
    },
    {
     "data": {
      "image/png": "[encoded data removed]",
      "text/plain": [
       "<Figure size 432x288 with 1 Axes>"
      ]
     },
     "metadata": {
      "needs_background": "light"
     },
     "output_type": "display_data"
    }
   ],
   "source": [
    "pd.DataFrame(data = canceled_dt.best_estimator_.feature_importances_*100,\n",
    "                   columns = [\"Importances\"],\n",
    "                   index = ind_train.columns).sort_values(\"Importances\", ascending = False)[:20].plot(kind = \"barh\", color = \"r\")"
   ]
  },
  {
   "cell_type": "markdown",
   "metadata": {},
   "source": [
    "We can visualize the decision tree model here\n",
    "\n",
    "Don't run this code in GCP it'll crash your environment.  We've attached it as part of a separate submission to make things more managable"
   ]
  },
  {
   "cell_type": "code",
   "execution_count": null,
   "metadata": {},
   "outputs": [],
   "source": [
    "fig, axes = plt.subplots(nrows = 1,ncols = 1,figsize = (10,10), dpi=800)\n",
    "a = tree.plot_tree(canceled_dt.best_estimator_,\n",
    "               feature_names = ind_train.columns,\n",
    "               class_names = ['canceled','not canceled'],\n",
    "               filled = True)"
   ]
  },
  {
   "cell_type": "markdown",
   "metadata": {},
   "source": [
    "## Let's try an Unsupervised Model\n",
    "For this classification we'll leverage a Multi-Layer Preception Classifier (neural network classifier)"
   ]
  },
  {
   "cell_type": "code",
   "execution_count": 75,
   "metadata": {},
   "outputs": [],
   "source": [
    "scaler = StandardScaler()\n",
    "scaler.fit(ind_train)\n",
    "ind_train_scaled = scaler.transform(ind_train)\n",
    "ind_test_scaled = scaler.transform(ind_test)"
   ]
  },
  {
   "cell_type": "code",
   "execution_count": 89,
   "metadata": {},
   "outputs": [
    {
     "name": "stderr",
     "output_type": "stream",
     "text": [
      "C:\\Dev\\Python375\\Lib\\site-packages\\sklearn\\neural_network\\_multilayer_perceptron.py:934: DataConversionWarning: A column-vector y was passed when a 1d array was expected. Please change the shape of y to (n_samples, ), for example using ravel().\n",
      "  y = column_or_1d(y, warn=True)\n"
     ]
    }
   ],
   "source": [
    "canceled_dt = MLPClassifier()\n",
    "canceled_dt_model = canceled_dt.fit(ind_train_scaled, labels_train)\n",
    "labels_pred = canceled_dt_model.predict(ind_test_scaled)"
   ]
  },
  {
   "cell_type": "markdown",
   "metadata": {},
   "source": [
    "Results look promising, so we'll see if we can hone in on a better model, and this performs about as well as our original decision tree model, but slightly better as the accuracy is marginally higher and is reflected in the confusion matrix with a really low true negative rate."
   ]
  },
  {
   "cell_type": "code",
   "execution_count": 90,
   "metadata": {},
   "outputs": [
    {
     "name": "stdout",
     "output_type": "stream",
     "text": [
      "Accuracy Score: 0.864032473246473\n",
      "\n",
      "Confusion Matrix:\n",
      " [[19837  2171]\n",
      " [ 2619 10602]]\n",
      "\n",
      "AUC Score: 0.8516300558074185\n"
     ]
    }
   ],
   "source": [
    "print('Accuracy Score: {}\\n\\nConfusion Matrix:\\n {}\\n\\nAUC Score: {}'\n",
    "      .format(accuracy_score(labels_test,labels_pred), confusion_matrix(labels_test,labels_pred), roc_auc_score(labels_test,labels_pred)))"
   ]
  },
  {
   "cell_type": "markdown",
   "metadata": {},
   "source": [
    "The precision and recall metrics for our second class (canceled reservations) is a bit lower than what we saw out of our decision tree, but overall this model is actually performing quite well"
   ]
  },
  {
   "cell_type": "code",
   "execution_count": 91,
   "metadata": {},
   "outputs": [
    {
     "name": "stdout",
     "output_type": "stream",
     "text": [
      "precision: [0.88337193 0.8300321 ]\n",
      "recall: [0.90135405 0.80190606]\n",
      "fscore: [0.8922724  0.81572671]\n",
      "support: [22008 13221]\n"
     ]
    }
   ],
   "source": [
    "precision, recall, fscore, support = score(labels_test, labels_pred)\n",
    "\n",
    "print('precision: {}'.format(precision))\n",
    "print('recall: {}'.format(recall))\n",
    "print('fscore: {}'.format(fscore))\n",
    "print('support: {}'.format(support))"
   ]
  },
  {
   "cell_type": "markdown",
   "metadata": {},
   "source": [
    "Can we improve the model any further through tuning the hyper parameters?"
   ]
  },
  {
   "cell_type": "code",
   "execution_count": 79,
   "metadata": {},
   "outputs": [],
   "source": [
    "param_grid = {\"alpha\": [1, 0.1, 0.01, 0.001, 0.0001],\n",
    "              \"solver\": [\"lbfgs\", \"adam\", \"sgd\"],\n",
    "              \"activation\": [\"logistic\", \"relu\"],\n",
    "              \"learning_rate\": [\"constant\", \"invscaling\",\"adaptive\"]}"
   ]
  },
  {
   "cell_type": "code",
   "execution_count": 80,
   "metadata": {},
   "outputs": [
    {
     "name": "stderr",
     "output_type": "stream",
     "text": [
      "C:\\Dev\\Python375\\Lib\\site-packages\\sklearn\\neural_network\\_multilayer_perceptron.py:934: DataConversionWarning: A column-vector y was passed when a 1d array was expected. Please change the shape of y to (n_samples, ), for example using ravel().\n",
      "  y = column_or_1d(y, warn=True)\n",
      "C:\\Dev\\Python375\\Lib\\site-packages\\sklearn\\neural_network\\_multilayer_perceptron.py:571: ConvergenceWarning: Stochastic Optimizer: Maximum iterations (200) reached and the optimization hasn't converged yet.\n",
      "  % self.max_iter, ConvergenceWarning)\n"
     ]
    }
   ],
   "source": [
    "canceled_dt = MLPClassifier()\n",
    "canceled_dt_model = GridSearchCV(canceled_dt, param_grid,\n",
    "                                 cv = 10,\n",
    "                                 n_jobs = -1,\n",
    "                                 verbose = 2)\n",
    "canceled_dt_model = canceled_dt.fit(ind_train_scaled, labels_train)"
   ]
  },
  {
   "cell_type": "code",
   "execution_count": 84,
   "metadata": {},
   "outputs": [],
   "source": [
    "labels_pred = canceled_dt_model.predict(ind_test_scaled)"
   ]
  },
  {
   "cell_type": "markdown",
   "metadata": {},
   "source": [
    "The confusion matrix shows some improvements in the true negatives and false positive classifications"
   ]
  },
  {
   "cell_type": "code",
   "execution_count": 87,
   "metadata": {},
   "outputs": [
    {
     "name": "stdout",
     "output_type": "stream",
     "text": [
      "Accuracy Score: 0.8579863180902098\n",
      "\n",
      "Confusion Matrix:\n",
      " [[19627  2381]\n",
      " [ 2429 10792]]\n",
      "\n",
      "AUC Score: 0.8540446015999958\n"
     ]
    }
   ],
   "source": [
    "print('Accuracy Score: {}\\n\\nConfusion Matrix:\\n {}\\n\\nAUC Score: {}'\n",
    "      .format(accuracy_score(labels_test,pred), confusion_matrix(labels_test,labels_pred), roc_auc_score(labels_test,labels_pred)))"
   ]
  },
  {
   "cell_type": "markdown",
   "metadata": {},
   "source": [
    "We can see some imrpovements over the baseline model as all the metrics have ticked up for the cancelled reservation class."
   ]
  },
  {
   "cell_type": "code",
   "execution_count": 88,
   "metadata": {},
   "outputs": [
    {
     "name": "stdout",
     "output_type": "stream",
     "text": [
      "precision: [0.88987124 0.8192515 ]\n",
      "recall: [0.89181207 0.81627713]\n",
      "fscore: [0.8908406  0.81776161]\n",
      "support: [22008 13221]\n"
     ]
    }
   ],
   "source": [
    "precision, recall, fscore, support = score(labels_test, labels_pred)\n",
    "\n",
    "print('precision: {}'.format(precision))\n",
    "print('recall: {}'.format(recall))\n",
    "print('fscore: {}'.format(fscore))\n",
    "print('support: {}'.format(support))"
   ]
  },
  {
   "cell_type": "markdown",
   "metadata": {},
   "source": [
    "There is minimal degradation of the model performance when validating it using a crossfold validation.  Implying the model is not overfitted for our dataset."
   ]
  },
  {
   "cell_type": "code",
   "execution_count": 83,
   "metadata": {},
   "outputs": [
    {
     "name": "stderr",
     "output_type": "stream",
     "text": [
      "C:\\Dev\\Python375\\Lib\\site-packages\\sklearn\\neural_network\\_multilayer_perceptron.py:934: DataConversionWarning: A column-vector y was passed when a 1d array was expected. Please change the shape of y to (n_samples, ), for example using ravel().\n",
      "  y = column_or_1d(y, warn=True)\n",
      "C:\\Dev\\Python375\\Lib\\site-packages\\sklearn\\neural_network\\_multilayer_perceptron.py:934: DataConversionWarning: A column-vector y was passed when a 1d array was expected. Please change the shape of y to (n_samples, ), for example using ravel().\n",
      "  y = column_or_1d(y, warn=True)\n",
      "C:\\Dev\\Python375\\Lib\\site-packages\\sklearn\\neural_network\\_multilayer_perceptron.py:934: DataConversionWarning: A column-vector y was passed when a 1d array was expected. Please change the shape of y to (n_samples, ), for example using ravel().\n",
      "  y = column_or_1d(y, warn=True)\n",
      "C:\\Dev\\Python375\\Lib\\site-packages\\sklearn\\neural_network\\_multilayer_perceptron.py:571: ConvergenceWarning: Stochastic Optimizer: Maximum iterations (200) reached and the optimization hasn't converged yet.\n",
      "  % self.max_iter, ConvergenceWarning)\n",
      "C:\\Dev\\Python375\\Lib\\site-packages\\sklearn\\neural_network\\_multilayer_perceptron.py:934: DataConversionWarning: A column-vector y was passed when a 1d array was expected. Please change the shape of y to (n_samples, ), for example using ravel().\n",
      "  y = column_or_1d(y, warn=True)\n",
      "C:\\Dev\\Python375\\Lib\\site-packages\\sklearn\\neural_network\\_multilayer_perceptron.py:571: ConvergenceWarning: Stochastic Optimizer: Maximum iterations (200) reached and the optimization hasn't converged yet.\n",
      "  % self.max_iter, ConvergenceWarning)\n",
      "C:\\Dev\\Python375\\Lib\\site-packages\\sklearn\\neural_network\\_multilayer_perceptron.py:934: DataConversionWarning: A column-vector y was passed when a 1d array was expected. Please change the shape of y to (n_samples, ), for example using ravel().\n",
      "  y = column_or_1d(y, warn=True)\n",
      "C:\\Dev\\Python375\\Lib\\site-packages\\sklearn\\neural_network\\_multilayer_perceptron.py:571: ConvergenceWarning: Stochastic Optimizer: Maximum iterations (200) reached and the optimization hasn't converged yet.\n",
      "  % self.max_iter, ConvergenceWarning)\n"
     ]
    },
    {
     "name": "stdout",
     "output_type": "stream",
     "text": [
      "mean cross validation score: 0.8636878029245917\n",
      "score without cv: 0.8841254972567244\n"
     ]
    }
   ],
   "source": [
    "scores = cross_val_score(canceled_dt_model, ind_train_scaled, labels_train, cv = 5)\n",
    "print(\"mean cross validation score: {}\".format(np.mean(scores)))\n",
    "print(\"score without cv: {}\".format(canceled_dt_model.score(ind_train_scaled, labels_train)))"
   ]
  }
 ],
 "metadata": {
  "kernelspec": {
   "display_name": "Python 3",
   "language": "python",
   "name": "python3"
  },
  "language_info": {
   "codemirror_mode": {
    "name": "ipython",
    "version": 3
   },
   "file_extension": ".py",
   "mimetype": "text/x-python",
   "name": "python",
   "nbconvert_exporter": "python",
   "pygments_lexer": "ipython3",
   "version": "3.7.5"
  }
 },
 "nbformat": 4,
 "nbformat_minor": 2
}
