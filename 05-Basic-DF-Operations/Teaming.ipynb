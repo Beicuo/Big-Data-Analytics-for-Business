{
 "cells": [
  {
   "cell_type": "markdown",
   "metadata": {},
   "source": [
    "# Teaming - IS843\n",
    "\n",
    "\n",
    "The seed below ensures that the results are random, but reproducible!"
   ]
  },
  {
   "cell_type": "code",
   "execution_count": null,
   "metadata": {},
   "outputs": [],
   "source": [
    "seed = 123"
   ]
  },
  {
   "cell_type": "markdown",
   "metadata": {},
   "source": [
    "Reading the data (data is kept private for students' privacy)"
   ]
  },
  {
   "cell_type": "code",
   "execution_count": null,
   "metadata": {},
   "outputs": [],
   "source": [
    "students = spark.read.format(\"csv\")\\\n",
    "  .option(\"header\", \"true\")\\\n",
    "  .option(\"inferSchema\", \"true\")\\\n",
    "  .load('gs://is843/data/students-is843-spring-2019.csv')\n",
    "\n",
    "students.show()"
   ]
  },
  {
   "cell_type": "markdown",
   "metadata": {},
   "source": [
    "Leads were selected based on the highest scores in quizzes 1, 2, and 3:"
   ]
  },
  {
   "cell_type": "code",
   "execution_count": null,
   "metadata": {},
   "outputs": [],
   "source": [
    "from pyspark.sql.functions import *\n",
    "\n",
    "leads = students.where(\"team\").select(\"name\")\n",
    "#leads.show()\n",
    "\n",
    "print(\"after shuffling:\")\n",
    "leads = leads.orderBy(rand(seed))\n",
    "\n",
    "leads.show()"
   ]
  },
  {
   "cell_type": "code",
   "execution_count": null,
   "metadata": {},
   "outputs": [],
   "source": [
    "for i in range(4):\n",
    "    take_n = 2\n",
    "    if i == 0: take_n += 1\n",
    "    group = students.where(\"!team\").select(\"name\").orderBy(rand(seed)).take(take_n)\n",
    "    print(\"\\n\", \"Team \", i+1, \": \", sep=\"\")\n",
    "    group_l = [x[0] for x in group]\n",
    "    students = students.withColumn(\"team\", when(col(\"name\").isin(group_l), True).otherwise(col(\"team\")))\n",
    "    print(leads.collect()[i][0])\n",
    "    print(*group_l, sep = \"\\n\")\n",
    "    print(\"\\n\", \"-----------------------------------\", sep = \"\")"
   ]
  }
 ],
 "metadata": {
  "kernelspec": {
   "display_name": "PySpark",
   "language": "python",
   "name": "pyspark"
  },
  "language_info": {
   "codemirror_mode": {
    "name": "ipython",
    "version": 3
   },
   "file_extension": ".py",
   "mimetype": "text/x-python",
   "name": "python",
   "nbconvert_exporter": "python",
   "pygments_lexer": "ipython3",
   "version": "3.6.5"
  }
 },
 "nbformat": 4,
 "nbformat_minor": 2
}