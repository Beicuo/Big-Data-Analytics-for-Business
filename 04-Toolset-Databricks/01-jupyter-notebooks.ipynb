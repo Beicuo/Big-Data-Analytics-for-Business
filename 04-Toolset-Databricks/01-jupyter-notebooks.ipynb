{
 "cells": [
  {
   "cell_type": "markdown",
   "metadata": {},
   "source": [
    "# Jupyter Notebook\n",
    "\n",
    "Jupyter Notebook is an incredibly powerful tool for interactively developing and presenting data science projects. A notebook integrates code and its output into a single document that combines visualizations, narrative text, mathematical equations, and other rich media.\n",
    "\n",
    "Each .ipynb file is a text file that describes the contents of your notebook in a format called JSON. Each cell and its contents, including image attachments that have been converted into strings of text, is listed therein along with some metadata.\n",
    "\n",
    "Each notebook consists of many cells. Cells are primarily two types:\n",
    "1. **Code:** Codes can be run within the notebook and the output will be printed within it and can be saved in the notebook as a whole. \n",
    "2. **Markdown:** Markdown is a lightweight, easy to learn markup language for formatting plain text. It can include formatted text, formula, images, and other rich media. A useful feature is to include code or variable names in Markdown in a way that they appear as code. For instance `print(\"Hello, World!\")`, or one can specify the language of code to get the custom format:\n",
    "\n",
    "```python\n",
    "print(\"Hello, World!\")\n",
    "```\n",
    "\n",
    "If you are reading this notebook in a Jupyter environment you can double click on this cell to see the raw text. \n",
    "\n",
    "### Kernel\n",
    "\n",
    "Behind every notebook runs a kernel. When you run a code cell, that code is executed within the kernel and any output is returned back to the cell to be displayed. The kernel's state persists over time and between cells — it pertains to the document as a whole and not individual cells.\n",
    "\n",
    "For example, if you import libraries or declare variables in one cell, they will be available in another. In this way, you can think of a notebook document as being somewhat comparable to a script file, except that it is multimedia. Let's try this out to get a feel for it. First, we'll import a Python package and define a function."
   ]
  },
  {
   "cell_type": "code",
   "execution_count": 1,
   "metadata": {},
   "outputs": [],
   "source": [
    "import numpy as np\n",
    "\n",
    "def square(x):\n",
    "    return x * x\n",
    "\n",
    "x = np.random.randint(1, 10)"
   ]
  },
  {
   "cell_type": "markdown",
   "metadata": {},
   "source": [
    "We can execute the above cell by Ctrl + Enter (or Command + Enter in Mac).\n",
    "\n",
    "we can reference np and square in any other cell:"
   ]
  },
  {
   "cell_type": "code",
   "execution_count": 2,
   "metadata": {},
   "outputs": [
    {
     "name": "stdout",
     "output_type": "stream",
     "text": [
      "2 squared is 4\n"
     ]
    }
   ],
   "source": [
    "y = square(x)\n",
    "\n",
    "print('%d squared is %d' % (x, y))"
   ]
  },
  {
   "cell_type": "markdown",
   "metadata": {},
   "source": [
    "### Creating plots"
   ]
  },
  {
   "cell_type": "code",
   "execution_count": 3,
   "metadata": {},
   "outputs": [],
   "source": [
    "import numpy as np\n",
    "import matplotlib.pyplot as plt\n",
    "\n",
    "x = np.linspace(0, 2*np.pi, 50)\n",
    "y = np.sin(x)\n",
    "y2 = y + 0.1 * np.random.normal(size=x.shape)\n",
    "\n",
    "fig, ax = plt.subplots()\n",
    "ax.plot(x, y, 'k--')\n",
    "ax.plot(x, y2, 'ro')\n",
    "\n",
    "# set ticks and tick labels\n",
    "ax.set_xlim((0, 2*np.pi))\n",
    "ax.set_xticks([0, np.pi, 2*np.pi])\n",
    "ax.set_xticklabels(['0', '$\\pi$','2$\\pi$'])\n",
    "ax.set_ylim((-1.5, 1.5))\n",
    "ax.set_yticks([-1, 0, 1])\n",
    "\n",
    "# Only draw spine between the y-ticks\n",
    "ax.spines['left'].set_bounds(-1, 1)\n",
    "# Hide the right and top spines\n",
    "ax.spines['right'].set_visible(False)\n",
    "ax.spines['top'].set_visible(False)\n",
    "# Only show ticks on the left and bottom spines\n",
    "ax.yaxis.set_ticks_position('left')\n",
    "ax.xaxis.set_ticks_position('bottom')"
   ]
  },
  {
   "cell_type": "markdown",
   "metadata": {},
   "source": [
    "Use `display(fig)` function to display the plot:"
   ]
  },
  {
   "cell_type": "code",
   "execution_count": 4,
   "metadata": {},
   "outputs": [
    {
     "data": {
      "image/png": "[encoded data removed]",
      "text/plain": [
       "<Figure size 640x480 with 1 Axes>"
      ]
     },
     "metadata": {},
     "output_type": "display_data"
    }
   ],
   "source": [
    "display(fig)"
   ]
  },
  {
   "cell_type": "markdown",
   "metadata": {},
   "source": [
    "## Further reading on Python\n",
    "\n",
    "In order to learn more about the basics of Python syntax please visit this [Python Bootcamp](https://github.com/soltaniehha/Python-Bootcamp) repository."
   ]
  }
 ],
 "metadata": {
  "kernelspec": {
   "display_name": "Python 3",
   "language": "python",
   "name": "python3"
  },
  "language_info": {
   "codemirror_mode": {
    "name": "ipython",
    "version": 3
   },
   "file_extension": ".py",
   "mimetype": "text/x-python",
   "name": "python",
   "nbconvert_exporter": "python",
   "pygments_lexer": "ipython3",
   "version": "3.7.2"
  }
 },
 "nbformat": 4,
 "nbformat_minor": 2
}
