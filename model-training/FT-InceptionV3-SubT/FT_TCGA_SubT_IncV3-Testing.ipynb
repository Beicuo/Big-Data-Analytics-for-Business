{
  "nbformat": 4,
  "nbformat_minor": 0,
  "metadata": {
    "colab": {
      "name": "FT-TCGA_SubT_IncV3-Testing.ipynb",
      "provenance": [],
      "collapsed_sections": [],
      "machine_shape": "hm",
      "authorship_tag": "ABX9TyNBnZe1C0TsfOwByVtmO0eu",
      "include_colab_link": true
    },
    "kernelspec": {
      "name": "python3",
      "display_name": "Python 3"
    },
    "accelerator": "GPU"
  },
  "cells": [
    {
      "cell_type": "markdown",
      "metadata": {
        "id": "view-in-github",
        "colab_type": "text"
      },
      "source": [
        "<a href=\"https://colab.research.google.com/github/soltaniehha/Big-Data-Analytics-for-Business/blob/master/model-training/FT-InceptionV3-SubT/FT_TCGA_SubT_IncV3-Testing.ipynb\" target=\"_parent\"><img src=\"https://colab.research.google.com/assets/colab-badge.svg\" alt=\"Open In Colab\"/></a>"
      ]
    },
    {
      "cell_type": "markdown",
      "metadata": {
        "id": "WRj6FgkSKL9T"
      },
      "source": [
        "#  Testing with fully  trained InceptionV3 on TCGA"
      ]
    },
    {
      "cell_type": "code",
      "metadata": {
        "id": "ZMT4SCYlh6Bg"
      },
      "source": [
        "#  Whether we are in Colab or not?\n",
        "import sys\n",
        "is_colab = 'google.colab' in sys.modules\n",
        "\n",
        "if is_colab:\n",
        "    from google.colab import auth\n",
        "    auth.authenticate_user()"
      ],
      "execution_count": 1,
      "outputs": []
    },
    {
      "cell_type": "code",
      "metadata": {
        "id": "m1YcnnBfhVTj"
      },
      "source": [
        "####### IMPORT LIBRARY #######\n",
        "\n",
        "import os\n",
        "import sys\n",
        "import time\n",
        "import psutil\n",
        "import numpy as np\n",
        "import pandas as pd\n",
        "import matplotlib.pyplot as plt\n",
        "import seaborn as sns\n",
        "import tensorflow as tf\n",
        "from tensorflow import keras\n",
        "import google.auth\n",
        "from google.cloud import bigquery\n",
        "from google.cloud import bigquery_storage\n",
        "from tqdm import tqdm\n",
        "from sklearn.metrics import classification_report, confusion_matrix, accuracy_score\n",
        "\n",
        "CPU_NUM = psutil.cpu_count(logical=True)\n",
        "GPU_NUM = len(tf.config.list_physical_devices('GPU'))"
      ],
      "execution_count": 2,
      "outputs": []
    },
    {
      "cell_type": "code",
      "metadata": {
        "id": "8hrcJrQriJQu"
      },
      "source": [
        "def read_tfrecord(example):\n",
        "    image_feature_description = {\n",
        "    'filename': tf.io.FixedLenFeature([], tf.string),\n",
        "    'rows': tf.io.FixedLenFeature([], tf.int64),\n",
        "    'cols': tf.io.FixedLenFeature([], tf.int64),\n",
        "    'channels': tf.io.FixedLenFeature([], tf.int64),   \n",
        "    'image': tf.io.FixedLenFeature([], tf.string),\n",
        "    'label': tf.io.FixedLenFeature([], tf.int64),\n",
        "    }\n",
        "    \n",
        "    # decode the TFRecord\n",
        "    example = tf.io.parse_single_example(example, image_feature_description)\n",
        "    \n",
        "    image = tf.image.decode_jpeg(example['image'], channels=3)\n",
        "    image = tf.cast(image, tf.float32) / 255.0\n",
        "    \n",
        "    label = tf.cast(example['label'], tf.int32)\n",
        "    filename = example['filename']\n",
        "    \n",
        "    return image, label, filename"
      ],
      "execution_count": 3,
      "outputs": []
    },
    {
      "cell_type": "code",
      "metadata": {
        "id": "LcW7JB6liao2"
      },
      "source": [
        "def get_dataset_info(CPU_NUM, filenames):\n",
        "\n",
        "    label_arr = []\n",
        "    filename_arr = []\n",
        "    \n",
        "    dataset = tf.data.Dataset.list_files(filenames, shuffle=False)\n",
        "    dataset = dataset.interleave(tf.data.TFRecordDataset, \n",
        "                                 cycle_length=CPU_NUM, \n",
        "                                 num_parallel_calls=tf.data.experimental.AUTOTUNE,\n",
        "                                 deterministic=True)\n",
        "    dataset = dataset.map(read_tfrecord, num_parallel_calls=CPU_NUM)\n",
        "    \n",
        "    for image, label, filename in dataset:\n",
        "        label_arr = np.append(label_arr, label.numpy())\n",
        "        filename_arr.append(filename.numpy().decode(\"utf-8\"))\n",
        "    \n",
        "    return dataset, label_arr, filename_arr"
      ],
      "execution_count": 4,
      "outputs": []
    },
    {
      "cell_type": "code",
      "metadata": {
        "id": "mggpGjGEibDD"
      },
      "source": [
        "def get_batched_datset(TEST_BATCH_SIZE, dataset):\n",
        "    dataset = dataset.batch(TEST_BATCH_SIZE, drop_remainder=False)\n",
        "    dataset = dataset.prefetch(tf.data.experimental.AUTOTUNE)\n",
        "\n",
        "    return dataset"
      ],
      "execution_count": 5,
      "outputs": []
    },
    {
      "cell_type": "markdown",
      "metadata": {
        "id": "O0Gb1QF9ieXa"
      },
      "source": [
        "## Get tfrecords info"
      ]
    },
    {
      "cell_type": "code",
      "metadata": {
        "id": "N_FCy1M3ic4K"
      },
      "source": [
        "###################################################\n",
        "############ DOWNLOAD THE DATA FROM BQ ############\n",
        "###################################################\n",
        "\n",
        "project_id = 'deep-nexus'\n",
        "\n",
        "# Download query results\n",
        "tf_info = pd.io.gbq.read_gbq('''\n",
        "  SELECT * FROM `deep-nexus.tcga_subtype.tfrecords_info`\n",
        "''', project_id=project_id)"
      ],
      "execution_count": 6,
      "outputs": []
    },
    {
      "cell_type": "code",
      "metadata": {
        "colab": {
          "base_uri": "https://localhost:8080/",
          "height": 258
        },
        "id": "U8RLHqIDjHtH",
        "outputId": "4f46c827-d4fc-4ac8-ac84-6d5dd1869840"
      },
      "source": [
        "test_info = tf_info[tf_info['tfrecord_paths'].str.contains('test')]\n",
        "pd.set_option('display.max_colwidth', -1)\n",
        "test_info.head()"
      ],
      "execution_count": 7,
      "outputs": [
        {
          "output_type": "stream",
          "text": [
            "/usr/local/lib/python3.6/dist-packages/ipykernel_launcher.py:2: FutureWarning: Passing a negative integer is deprecated in version 1.0 and will not be supported in future version. Instead, use None to not limit the column width.\n",
            "  \n"
          ],
          "name": "stderr"
        },
        {
          "output_type": "execute_result",
          "data": {
            "text/html": [
              "<div>\n",
              "<style scoped>\n",
              "    .dataframe tbody tr th:only-of-type {\n",
              "        vertical-align: middle;\n",
              "    }\n",
              "\n",
              "    .dataframe tbody tr th {\n",
              "        vertical-align: top;\n",
              "    }\n",
              "\n",
              "    .dataframe thead th {\n",
              "        text-align: right;\n",
              "    }\n",
              "</style>\n",
              "<table border=\"1\" class=\"dataframe\">\n",
              "  <thead>\n",
              "    <tr style=\"text-align: right;\">\n",
              "      <th></th>\n",
              "      <th>tfrecord_paths</th>\n",
              "      <th>n_tiles</th>\n",
              "    </tr>\n",
              "  </thead>\n",
              "  <tbody>\n",
              "    <tr>\n",
              "      <th>6</th>\n",
              "      <td>gs://deep-nexus/TCGA/subtype_tfrecords/test_TCGA-15-0742-01A-01-BS1.tfrecord</td>\n",
              "      <td>1024</td>\n",
              "    </tr>\n",
              "    <tr>\n",
              "      <th>7</th>\n",
              "      <td>gs://deep-nexus/TCGA/subtype_tfrecords/test_TCGA-22-4594-01A-01-TS1.tfrecord</td>\n",
              "      <td>1024</td>\n",
              "    </tr>\n",
              "    <tr>\n",
              "      <th>8</th>\n",
              "      <td>gs://deep-nexus/TCGA/subtype_tfrecords/test_TCGA-AR-A24Z-01A-01-TSA.tfrecord</td>\n",
              "      <td>1280</td>\n",
              "    </tr>\n",
              "    <tr>\n",
              "      <th>16</th>\n",
              "      <td>gs://deep-nexus/TCGA/subtype_tfrecords/test_TCGA-DJ-A2Q6-01A-01-TSA.tfrecord</td>\n",
              "      <td>3328</td>\n",
              "    </tr>\n",
              "    <tr>\n",
              "      <th>17</th>\n",
              "      <td>gs://deep-nexus/TCGA/subtype_tfrecords/test_TCGA-50-5932-01A-01-TS1.tfrecord</td>\n",
              "      <td>5632</td>\n",
              "    </tr>\n",
              "  </tbody>\n",
              "</table>\n",
              "</div>"
            ],
            "text/plain": [
              "                                                                  tfrecord_paths  n_tiles\n",
              "6   gs://deep-nexus/TCGA/subtype_tfrecords/test_TCGA-15-0742-01A-01-BS1.tfrecord  1024   \n",
              "7   gs://deep-nexus/TCGA/subtype_tfrecords/test_TCGA-22-4594-01A-01-TS1.tfrecord  1024   \n",
              "8   gs://deep-nexus/TCGA/subtype_tfrecords/test_TCGA-AR-A24Z-01A-01-TSA.tfrecord  1280   \n",
              "16  gs://deep-nexus/TCGA/subtype_tfrecords/test_TCGA-DJ-A2Q6-01A-01-TSA.tfrecord  3328   \n",
              "17  gs://deep-nexus/TCGA/subtype_tfrecords/test_TCGA-50-5932-01A-01-TS1.tfrecord  5632   "
            ]
          },
          "metadata": {
            "tags": []
          },
          "execution_count": 7
        }
      ]
    },
    {
      "cell_type": "markdown",
      "metadata": {
        "id": "jXBril7njSoM"
      },
      "source": [
        "## Load the model"
      ]
    },
    {
      "cell_type": "code",
      "metadata": {
        "id": "EsMuxdpgjNyD"
      },
      "source": [
        "# Prepare a directory to store the model.\n",
        "checkpoint_dir = \"./ckpt/downloaded-model\"\n",
        "if not os.path.exists(checkpoint_dir):\n",
        "    os.makedirs(checkpoint_dir)\n",
        "\n",
        "!gsutil -m -q cp -r gs://deep-nexus/TCGA/models/incV3-FT-SubT ckpt/\n",
        "\n",
        "model = keras.models.load_model('ckpt/incV3-FT-SubT')"
      ],
      "execution_count": 8,
      "outputs": []
    },
    {
      "cell_type": "markdown",
      "metadata": {
        "id": "6sdWMbYrjxTT"
      },
      "source": [
        "## Make predictions"
      ]
    },
    {
      "cell_type": "code",
      "metadata": {
        "colab": {
          "base_uri": "https://localhost:8080/"
        },
        "id": "9pehu0Qoj0Eh",
        "outputId": "7aba6e59-4180-40cc-8036-57b043ae1b0b"
      },
      "source": [
        "slide_barcode_arr = []\n",
        "slide_label_true_arr = []\n",
        "tile_label_pred_arr = []\n",
        "tile_name_arr = []\n",
        "\n",
        "# predict one tfrecord at a time\n",
        "for i in tqdm(range(test_info.shape[0])):\n",
        "    \n",
        "    # get tfrecord info\n",
        "    tf_path = test_info.tfrecord_paths.values[i]\n",
        "    tile_num = test_info.n_tiles.values[i]\n",
        "    tf_name = tf_path.split('/')[-1]\n",
        "    slide_barcode = tf_name.split('.')[0][5:]\n",
        "    slide_barcode_arr.append(slide_barcode)\n",
        "    \n",
        "    # set params\n",
        "    TEST_BATCH_SIZE = 128\n",
        "    \n",
        "    # get the dataset and the label\n",
        "    dataset, label_arr, filename_arr = get_dataset_info(CPU_NUM, tf_path)\n",
        "    slide_label_true_arr.append(int(label_arr[0]))\n",
        "    tile_name_arr.append([name.split('.')[1].split('/')[-1] for name in filename_arr])\n",
        "    \n",
        "    # make tests\n",
        "    predictions = model.predict(get_batched_datset(TEST_BATCH_SIZE, dataset))\n",
        "    tile_label_pred = predictions.argmax(axis=1)\n",
        "    tile_label_pred_arr.append(tile_label_pred)"
      ],
      "execution_count": 9,
      "outputs": [
        {
          "output_type": "stream",
          "text": [
            "100%|██████████| 2196/2196 [16:12:07<00:00, 26.56s/it]\n"
          ],
          "name": "stderr"
        }
      ]
    },
    {
      "cell_type": "markdown",
      "metadata": {
        "id": "mXribzkXkC6u"
      },
      "source": [
        "## Save the prediction of tiles"
      ]
    },
    {
      "cell_type": "code",
      "metadata": {
        "id": "a35vzGHxj-r4"
      },
      "source": [
        "slide_label_true_list = []\n",
        "slide_barcode_list = []\n",
        "\n",
        "for i in range(len(slide_barcode_arr)):\n",
        "    sub_list_label = [slide_label_true_arr[i]]*test_info.n_tiles.values[i]\n",
        "    sub_list_barcode = [slide_barcode_arr[i]]*test_info.n_tiles.values[i]\n",
        "    slide_label_true_list.append(sub_list_label)\n",
        "    slide_barcode_list.append(sub_list_barcode)\n",
        "    \n",
        "slide_label_true_list = [label for slide in slide_label_true_list for label in slide]\n",
        "slide_barcode_list = [name for slide in slide_barcode_list for name in slide]\n",
        "tile_name_list = [name for slide in tile_name_arr for name in slide]\n",
        "tile_label_pred_list = [pred for slide in tile_label_pred_arr for pred in slide]"
      ],
      "execution_count": 10,
      "outputs": []
    },
    {
      "cell_type": "code",
      "metadata": {
        "id": "IRNh5_bnkxUE",
        "colab": {
          "base_uri": "https://localhost:8080/",
          "height": 204
        },
        "outputId": "bd870427-939a-4751-c569-144e116a2c97"
      },
      "source": [
        "test_pred_tile = pd.DataFrame({'slide_barcode': slide_barcode_list,\n",
        "                                'true_label': slide_label_true_list,\n",
        "                                'tile_name': tile_name_list,\n",
        "                                'pred': tile_label_pred_list})\n",
        "test_pred_tile.head()"
      ],
      "execution_count": 11,
      "outputs": [
        {
          "output_type": "execute_result",
          "data": {
            "text/html": [
              "<div>\n",
              "<style scoped>\n",
              "    .dataframe tbody tr th:only-of-type {\n",
              "        vertical-align: middle;\n",
              "    }\n",
              "\n",
              "    .dataframe tbody tr th {\n",
              "        vertical-align: top;\n",
              "    }\n",
              "\n",
              "    .dataframe thead th {\n",
              "        text-align: right;\n",
              "    }\n",
              "</style>\n",
              "<table border=\"1\" class=\"dataframe\">\n",
              "  <thead>\n",
              "    <tr style=\"text-align: right;\">\n",
              "      <th></th>\n",
              "      <th>slide_barcode</th>\n",
              "      <th>true_label</th>\n",
              "      <th>tile_name</th>\n",
              "      <th>pred</th>\n",
              "    </tr>\n",
              "  </thead>\n",
              "  <tbody>\n",
              "    <tr>\n",
              "      <th>0</th>\n",
              "      <td>TCGA-15-0742-01A-01-BS1</td>\n",
              "      <td>5</td>\n",
              "      <td>tile_26_12</td>\n",
              "      <td>5</td>\n",
              "    </tr>\n",
              "    <tr>\n",
              "      <th>1</th>\n",
              "      <td>TCGA-15-0742-01A-01-BS1</td>\n",
              "      <td>5</td>\n",
              "      <td>tile_5_20</td>\n",
              "      <td>5</td>\n",
              "    </tr>\n",
              "    <tr>\n",
              "      <th>2</th>\n",
              "      <td>TCGA-15-0742-01A-01-BS1</td>\n",
              "      <td>5</td>\n",
              "      <td>tile_23_27</td>\n",
              "      <td>5</td>\n",
              "    </tr>\n",
              "    <tr>\n",
              "      <th>3</th>\n",
              "      <td>TCGA-15-0742-01A-01-BS1</td>\n",
              "      <td>5</td>\n",
              "      <td>tile_27_13</td>\n",
              "      <td>5</td>\n",
              "    </tr>\n",
              "    <tr>\n",
              "      <th>4</th>\n",
              "      <td>TCGA-15-0742-01A-01-BS1</td>\n",
              "      <td>5</td>\n",
              "      <td>tile_32_30</td>\n",
              "      <td>5</td>\n",
              "    </tr>\n",
              "  </tbody>\n",
              "</table>\n",
              "</div>"
            ],
            "text/plain": [
              "             slide_barcode  true_label   tile_name  pred\n",
              "0  TCGA-15-0742-01A-01-BS1  5           tile_26_12  5   \n",
              "1  TCGA-15-0742-01A-01-BS1  5           tile_5_20   5   \n",
              "2  TCGA-15-0742-01A-01-BS1  5           tile_23_27  5   \n",
              "3  TCGA-15-0742-01A-01-BS1  5           tile_27_13  5   \n",
              "4  TCGA-15-0742-01A-01-BS1  5           tile_32_30  5   "
            ]
          },
          "metadata": {
            "tags": []
          },
          "execution_count": 11
        }
      ]
    },
    {
      "cell_type": "code",
      "metadata": {
        "id": "l7BOIrg40WFM"
      },
      "source": [
        "disease_code_class = pd.io.gbq.read_gbq('''\n",
        "  SELECT * FROM `deep-nexus.tcga_subtype.disease_code_class`\n",
        "''', project_id=project_id)"
      ],
      "execution_count": 42,
      "outputs": []
    },
    {
      "cell_type": "code",
      "metadata": {
        "colab": {
          "base_uri": "https://localhost:8080/",
          "height": 419
        },
        "id": "W3t3fdiW0d7_",
        "outputId": "36440db3-c753-4c1e-9f57-75a09089be33"
      },
      "source": [
        "# Adding the actual labels\n",
        "test_pred_tile_tmp = test_pred_tile.merge(disease_code_class, how='left', left_on='true_label', right_on='label')\n",
        "test_pred_tile_tmp = test_pred_tile_tmp[['slide_barcode', 'tile_name', 'disease_code', 'pred']]\n",
        "test_pred_tile_tmp.columns = ['slide_barcode', 'tile_name', 'true_label', 'pred']\n",
        "test_pred_tile_tmp = test_pred_tile_tmp.merge(disease_code_class, how='left', left_on='pred', right_on='label')\n",
        "test_pred_tile_tmp = test_pred_tile_tmp[['slide_barcode', 'tile_name', 'true_label', 'disease_code']]\n",
        "test_pred_tile_tmp.columns = ['slide_barcode', 'tile_name', 'true_label', 'pred']\n",
        "test_pred_tile = test_pred_tile_tmp\n",
        "test_pred_tile"
      ],
      "execution_count": 52,
      "outputs": [
        {
          "output_type": "execute_result",
          "data": {
            "text/html": [
              "<div>\n",
              "<style scoped>\n",
              "    .dataframe tbody tr th:only-of-type {\n",
              "        vertical-align: middle;\n",
              "    }\n",
              "\n",
              "    .dataframe tbody tr th {\n",
              "        vertical-align: top;\n",
              "    }\n",
              "\n",
              "    .dataframe thead th {\n",
              "        text-align: right;\n",
              "    }\n",
              "</style>\n",
              "<table border=\"1\" class=\"dataframe\">\n",
              "  <thead>\n",
              "    <tr style=\"text-align: right;\">\n",
              "      <th></th>\n",
              "      <th>slide_barcode</th>\n",
              "      <th>tile_name</th>\n",
              "      <th>true_label</th>\n",
              "      <th>pred</th>\n",
              "    </tr>\n",
              "  </thead>\n",
              "  <tbody>\n",
              "    <tr>\n",
              "      <th>0</th>\n",
              "      <td>TCGA-15-0742-01A-01-BS1</td>\n",
              "      <td>tile_26_12</td>\n",
              "      <td>GBM</td>\n",
              "      <td>GBM</td>\n",
              "    </tr>\n",
              "    <tr>\n",
              "      <th>1</th>\n",
              "      <td>TCGA-15-0742-01A-01-BS1</td>\n",
              "      <td>tile_5_20</td>\n",
              "      <td>GBM</td>\n",
              "      <td>GBM</td>\n",
              "    </tr>\n",
              "    <tr>\n",
              "      <th>2</th>\n",
              "      <td>TCGA-15-0742-01A-01-BS1</td>\n",
              "      <td>tile_23_27</td>\n",
              "      <td>GBM</td>\n",
              "      <td>GBM</td>\n",
              "    </tr>\n",
              "    <tr>\n",
              "      <th>3</th>\n",
              "      <td>TCGA-15-0742-01A-01-BS1</td>\n",
              "      <td>tile_27_13</td>\n",
              "      <td>GBM</td>\n",
              "      <td>GBM</td>\n",
              "    </tr>\n",
              "    <tr>\n",
              "      <th>4</th>\n",
              "      <td>TCGA-15-0742-01A-01-BS1</td>\n",
              "      <td>tile_32_30</td>\n",
              "      <td>GBM</td>\n",
              "      <td>GBM</td>\n",
              "    </tr>\n",
              "    <tr>\n",
              "      <th>...</th>\n",
              "      <td>...</td>\n",
              "      <td>...</td>\n",
              "      <td>...</td>\n",
              "      <td>...</td>\n",
              "    </tr>\n",
              "    <tr>\n",
              "      <th>4156017</th>\n",
              "      <td>TCGA-AZ-6600-01A-01-BS1</td>\n",
              "      <td>tile_134_121</td>\n",
              "      <td>COAD</td>\n",
              "      <td>KIRP</td>\n",
              "    </tr>\n",
              "    <tr>\n",
              "      <th>4156018</th>\n",
              "      <td>TCGA-AZ-6600-01A-01-BS1</td>\n",
              "      <td>tile_23_75</td>\n",
              "      <td>COAD</td>\n",
              "      <td>COAD</td>\n",
              "    </tr>\n",
              "    <tr>\n",
              "      <th>4156019</th>\n",
              "      <td>TCGA-AZ-6600-01A-01-BS1</td>\n",
              "      <td>tile_23_77</td>\n",
              "      <td>COAD</td>\n",
              "      <td>COAD</td>\n",
              "    </tr>\n",
              "    <tr>\n",
              "      <th>4156020</th>\n",
              "      <td>TCGA-AZ-6600-01A-01-BS1</td>\n",
              "      <td>tile_47_58</td>\n",
              "      <td>COAD</td>\n",
              "      <td>COAD</td>\n",
              "    </tr>\n",
              "    <tr>\n",
              "      <th>4156021</th>\n",
              "      <td>TCGA-AZ-6600-01A-01-BS1</td>\n",
              "      <td>tile_104_124</td>\n",
              "      <td>COAD</td>\n",
              "      <td>COAD</td>\n",
              "    </tr>\n",
              "  </tbody>\n",
              "</table>\n",
              "<p>4156022 rows × 4 columns</p>\n",
              "</div>"
            ],
            "text/plain": [
              "                   slide_barcode     tile_name true_label  pred\n",
              "0        TCGA-15-0742-01A-01-BS1  tile_26_12    GBM        GBM \n",
              "1        TCGA-15-0742-01A-01-BS1  tile_5_20     GBM        GBM \n",
              "2        TCGA-15-0742-01A-01-BS1  tile_23_27    GBM        GBM \n",
              "3        TCGA-15-0742-01A-01-BS1  tile_27_13    GBM        GBM \n",
              "4        TCGA-15-0742-01A-01-BS1  tile_32_30    GBM        GBM \n",
              "...                          ...         ...    ...        ... \n",
              "4156017  TCGA-AZ-6600-01A-01-BS1  tile_134_121  COAD       KIRP\n",
              "4156018  TCGA-AZ-6600-01A-01-BS1  tile_23_75    COAD       COAD\n",
              "4156019  TCGA-AZ-6600-01A-01-BS1  tile_23_77    COAD       COAD\n",
              "4156020  TCGA-AZ-6600-01A-01-BS1  tile_47_58    COAD       COAD\n",
              "4156021  TCGA-AZ-6600-01A-01-BS1  tile_104_124  COAD       COAD\n",
              "\n",
              "[4156022 rows x 4 columns]"
            ]
          },
          "metadata": {
            "tags": []
          },
          "execution_count": 52
        }
      ]
    },
    {
      "cell_type": "code",
      "metadata": {
        "id": "zVhsYvPDlKlm",
        "colab": {
          "base_uri": "https://localhost:8080/"
        },
        "outputId": "da713883-742f-46a4-af02-dadda0a809bd"
      },
      "source": [
        "tile_acc = accuracy_score(test_pred_tile.true_label, test_pred_tile.pred)\n",
        "print('Test set tile accuracy: {}'.format(np.round(tile_acc, 4)))"
      ],
      "execution_count": 53,
      "outputs": [
        {
          "output_type": "stream",
          "text": [
            "Test set tile accuracy: 0.558\n"
          ],
          "name": "stdout"
        }
      ]
    },
    {
      "cell_type": "code",
      "metadata": {
        "id": "E2XycsltqhtF",
        "colab": {
          "base_uri": "https://localhost:8080/"
        },
        "outputId": "0b54ee7e-2291-466d-879c-c57de2f30578"
      },
      "source": [
        "test_pred_tile.to_gbq('tcga_subtype.test_pred_tile_TCGA_SubT_model_on_TCGA', 'deep-nexus', if_exists='replace')"
      ],
      "execution_count": 54,
      "outputs": [
        {
          "output_type": "stream",
          "text": [
            "1it [01:42, 102.32s/it]\n"
          ],
          "name": "stderr"
        }
      ]
    },
    {
      "cell_type": "markdown",
      "metadata": {
        "id": "nw0MWUSFwKPz"
      },
      "source": [
        "## Calculate test set slide accuracy"
      ]
    },
    {
      "cell_type": "code",
      "metadata": {
        "colab": {
          "base_uri": "https://localhost:8080/",
          "height": 609
        },
        "id": "53I_BVnr5FE6",
        "outputId": "bf86ad50-a8ed-424f-8823-4e687f553bff"
      },
      "source": [
        "test_slides = test_pred_tile.groupby(['slide_barcode', 'true_label']).agg(\n",
        "    tile_count     = ('pred', lambda x: x.count()),\n",
        "    pred_1st       = ('pred', lambda x: x.value_counts().index[0]),\n",
        "    pred_1st_count = ('pred', lambda x: x.value_counts()[0]),\n",
        "    pred_1st_ratio = ('pred', lambda x: x.value_counts()[0]/x.count()),\n",
        "    pred_2nd       = ('pred', lambda x: x.value_counts().index[1] if len(x.value_counts())>1 else None),\n",
        "    pred_2nd_count = ('pred', lambda x: x.value_counts()[1] if len(x.value_counts())>1 else None),\n",
        "    pred_2nd_ratio = ('pred', lambda x: x.value_counts()[1]/x.count() if len(x.value_counts())>1 else None),\n",
        "    pred_3rd       = ('pred', lambda x: x.value_counts().index[2] if len(x.value_counts())>2 else None),\n",
        "    pred_3rd_count = ('pred', lambda x: x.value_counts()[2] if len(x.value_counts())>2 else None),\n",
        "    pred_3rd_ratio = ('pred', lambda x: x.value_counts()[2]/x.count() if len(x.value_counts())>2 else None)\n",
        "\n",
        ").reset_index()\n",
        "\n",
        "test_slides"
      ],
      "execution_count": 107,
      "outputs": [
        {
          "output_type": "execute_result",
          "data": {
            "text/html": [
              "<div>\n",
              "<style scoped>\n",
              "    .dataframe tbody tr th:only-of-type {\n",
              "        vertical-align: middle;\n",
              "    }\n",
              "\n",
              "    .dataframe tbody tr th {\n",
              "        vertical-align: top;\n",
              "    }\n",
              "\n",
              "    .dataframe thead th {\n",
              "        text-align: right;\n",
              "    }\n",
              "</style>\n",
              "<table border=\"1\" class=\"dataframe\">\n",
              "  <thead>\n",
              "    <tr style=\"text-align: right;\">\n",
              "      <th></th>\n",
              "      <th>slide_barcode</th>\n",
              "      <th>true_label</th>\n",
              "      <th>tile_count</th>\n",
              "      <th>pred_1st</th>\n",
              "      <th>pred_1st_count</th>\n",
              "      <th>pred_1st_ratio</th>\n",
              "      <th>pred_2nd</th>\n",
              "      <th>pred_2nd_count</th>\n",
              "      <th>pred_2nd_ratio</th>\n",
              "      <th>pred_3rd</th>\n",
              "      <th>pred_3rd_count</th>\n",
              "      <th>pred_3rd_ratio</th>\n",
              "    </tr>\n",
              "  </thead>\n",
              "  <tbody>\n",
              "    <tr>\n",
              "      <th>0</th>\n",
              "      <td>TCGA-02-0001-01C-01-BS1</td>\n",
              "      <td>GBM</td>\n",
              "      <td>1556</td>\n",
              "      <td>GBM</td>\n",
              "      <td>1554</td>\n",
              "      <td>0.998715</td>\n",
              "      <td>OV</td>\n",
              "      <td>2.0</td>\n",
              "      <td>0.001285</td>\n",
              "      <td>None</td>\n",
              "      <td>NaN</td>\n",
              "      <td>NaN</td>\n",
              "    </tr>\n",
              "    <tr>\n",
              "      <th>1</th>\n",
              "      <td>TCGA-02-0010-01A-01-BS1</td>\n",
              "      <td>GBM</td>\n",
              "      <td>997</td>\n",
              "      <td>GBM</td>\n",
              "      <td>997</td>\n",
              "      <td>1.000000</td>\n",
              "      <td>None</td>\n",
              "      <td>NaN</td>\n",
              "      <td>NaN</td>\n",
              "      <td>None</td>\n",
              "      <td>NaN</td>\n",
              "      <td>NaN</td>\n",
              "    </tr>\n",
              "    <tr>\n",
              "      <th>2</th>\n",
              "      <td>TCGA-02-0010-01A-01-TS2</td>\n",
              "      <td>GBM</td>\n",
              "      <td>1292</td>\n",
              "      <td>GBM</td>\n",
              "      <td>1291</td>\n",
              "      <td>0.999226</td>\n",
              "      <td>LUSC</td>\n",
              "      <td>1.0</td>\n",
              "      <td>0.000774</td>\n",
              "      <td>None</td>\n",
              "      <td>NaN</td>\n",
              "      <td>NaN</td>\n",
              "    </tr>\n",
              "    <tr>\n",
              "      <th>3</th>\n",
              "      <td>TCGA-02-0021-01A-01-BS1</td>\n",
              "      <td>GBM</td>\n",
              "      <td>1364</td>\n",
              "      <td>GBM</td>\n",
              "      <td>1362</td>\n",
              "      <td>0.998534</td>\n",
              "      <td>LGG</td>\n",
              "      <td>1.0</td>\n",
              "      <td>0.000733</td>\n",
              "      <td>OV</td>\n",
              "      <td>1.0</td>\n",
              "      <td>0.000733</td>\n",
              "    </tr>\n",
              "    <tr>\n",
              "      <th>4</th>\n",
              "      <td>TCGA-02-0021-01A-01-TS1</td>\n",
              "      <td>GBM</td>\n",
              "      <td>2475</td>\n",
              "      <td>GBM</td>\n",
              "      <td>2269</td>\n",
              "      <td>0.916768</td>\n",
              "      <td>OV</td>\n",
              "      <td>79.0</td>\n",
              "      <td>0.031919</td>\n",
              "      <td>KIRC</td>\n",
              "      <td>70.0</td>\n",
              "      <td>0.028283</td>\n",
              "    </tr>\n",
              "    <tr>\n",
              "      <th>...</th>\n",
              "      <td>...</td>\n",
              "      <td>...</td>\n",
              "      <td>...</td>\n",
              "      <td>...</td>\n",
              "      <td>...</td>\n",
              "      <td>...</td>\n",
              "      <td>...</td>\n",
              "      <td>...</td>\n",
              "      <td>...</td>\n",
              "      <td>...</td>\n",
              "      <td>...</td>\n",
              "      <td>...</td>\n",
              "    </tr>\n",
              "    <tr>\n",
              "      <th>2191</th>\n",
              "      <td>TCGA-ZJ-AAXN-01A-01-TSA</td>\n",
              "      <td>CESC</td>\n",
              "      <td>2070</td>\n",
              "      <td>BLCA</td>\n",
              "      <td>1117</td>\n",
              "      <td>0.539614</td>\n",
              "      <td>LIHC</td>\n",
              "      <td>667.0</td>\n",
              "      <td>0.322222</td>\n",
              "      <td>LGG</td>\n",
              "      <td>97.0</td>\n",
              "      <td>0.046860</td>\n",
              "    </tr>\n",
              "    <tr>\n",
              "      <th>2192</th>\n",
              "      <td>TCGA-ZM-AA0D-01A-01-TSA</td>\n",
              "      <td>TGCT</td>\n",
              "      <td>1157</td>\n",
              "      <td>BLCA</td>\n",
              "      <td>492</td>\n",
              "      <td>0.425238</td>\n",
              "      <td>PRAD</td>\n",
              "      <td>281.0</td>\n",
              "      <td>0.242869</td>\n",
              "      <td>KIRP</td>\n",
              "      <td>162.0</td>\n",
              "      <td>0.140017</td>\n",
              "    </tr>\n",
              "    <tr>\n",
              "      <th>2193</th>\n",
              "      <td>TCGA-ZM-AA0N-01A-02-TS2</td>\n",
              "      <td>TGCT</td>\n",
              "      <td>3985</td>\n",
              "      <td>PRAD</td>\n",
              "      <td>1629</td>\n",
              "      <td>0.408783</td>\n",
              "      <td>BLCA</td>\n",
              "      <td>1112.0</td>\n",
              "      <td>0.279046</td>\n",
              "      <td>UCEC</td>\n",
              "      <td>659.0</td>\n",
              "      <td>0.165370</td>\n",
              "    </tr>\n",
              "    <tr>\n",
              "      <th>2194</th>\n",
              "      <td>TCGA-ZP-A9CV-01A-01-TS1</td>\n",
              "      <td>LIHC</td>\n",
              "      <td>1284</td>\n",
              "      <td>LIHC</td>\n",
              "      <td>1265</td>\n",
              "      <td>0.985202</td>\n",
              "      <td>KIRP</td>\n",
              "      <td>13.0</td>\n",
              "      <td>0.010125</td>\n",
              "      <td>BLCA</td>\n",
              "      <td>5.0</td>\n",
              "      <td>0.003894</td>\n",
              "    </tr>\n",
              "    <tr>\n",
              "      <th>2195</th>\n",
              "      <td>TCGA-ZS-A9CD-01A-01-TS1</td>\n",
              "      <td>LIHC</td>\n",
              "      <td>1603</td>\n",
              "      <td>LIHC</td>\n",
              "      <td>1243</td>\n",
              "      <td>0.775421</td>\n",
              "      <td>BRCA</td>\n",
              "      <td>215.0</td>\n",
              "      <td>0.134124</td>\n",
              "      <td>PRAD</td>\n",
              "      <td>115.0</td>\n",
              "      <td>0.071740</td>\n",
              "    </tr>\n",
              "  </tbody>\n",
              "</table>\n",
              "<p>2196 rows × 12 columns</p>\n",
              "</div>"
            ],
            "text/plain": [
              "                slide_barcode true_label  ...  pred_3rd_count pred_3rd_ratio\n",
              "0     TCGA-02-0001-01C-01-BS1  GBM        ... NaN             NaN           \n",
              "1     TCGA-02-0010-01A-01-BS1  GBM        ... NaN             NaN           \n",
              "2     TCGA-02-0010-01A-01-TS2  GBM        ... NaN             NaN           \n",
              "3     TCGA-02-0021-01A-01-BS1  GBM        ...  1.0             0.000733     \n",
              "4     TCGA-02-0021-01A-01-TS1  GBM        ...  70.0            0.028283     \n",
              "...                       ...  ...        ...   ...                 ...     \n",
              "2191  TCGA-ZJ-AAXN-01A-01-TSA  CESC       ...  97.0            0.046860     \n",
              "2192  TCGA-ZM-AA0D-01A-01-TSA  TGCT       ...  162.0           0.140017     \n",
              "2193  TCGA-ZM-AA0N-01A-02-TS2  TGCT       ...  659.0           0.165370     \n",
              "2194  TCGA-ZP-A9CV-01A-01-TS1  LIHC       ...  5.0             0.003894     \n",
              "2195  TCGA-ZS-A9CD-01A-01-TS1  LIHC       ...  115.0           0.071740     \n",
              "\n",
              "[2196 rows x 12 columns]"
            ]
          },
          "metadata": {
            "tags": []
          },
          "execution_count": 107
        }
      ]
    },
    {
      "cell_type": "code",
      "metadata": {
        "colab": {
          "base_uri": "https://localhost:8080/"
        },
        "id": "xKalC5_xAOrQ",
        "outputId": "16ff087b-c131-47eb-fc1f-f95bca7d9d71"
      },
      "source": [
        "slide_acc_top1 = sum(test_slides.true_label == test_slides.pred_1st)/test_slides.shape[0]\n",
        "slide_acc_top2 = (sum(test_slides.true_label == test_slides.pred_1st) +\n",
        "                  sum(test_slides.true_label == test_slides.pred_2nd))/test_slides.shape[0]\n",
        "slide_acc_top3 = (sum(test_slides.true_label == test_slides.pred_1st) +\n",
        "                  sum(test_slides.true_label == test_slides.pred_2nd) +\n",
        "                  sum(test_slides.true_label == test_slides.pred_3rd))/test_slides.shape[0]\n",
        "print('Test set slide top 1 accuracy: {}'.format(np.round(slide_acc_top1, 4)))\n",
        "print('Test set slide top 2 accuracy: {}'.format(np.round(slide_acc_top2, 4)))\n",
        "print('Test set slide top 3 accuracy: {}'.format(np.round(slide_acc_top3, 4)))"
      ],
      "execution_count": 115,
      "outputs": [
        {
          "output_type": "stream",
          "text": [
            "Test set slide top 1 accuracy: 0.6539\n",
            "Test set slide top 2 accuracy: 0.7281\n",
            "Test set slide top 3 accuracy: 0.7568\n"
          ],
          "name": "stdout"
        }
      ]
    },
    {
      "cell_type": "code",
      "metadata": {
        "colab": {
          "base_uri": "https://localhost:8080/"
        },
        "id": "BX2um1_eAGW8",
        "outputId": "19c0544d-61cd-4787-a484-a801dce3b02a"
      },
      "source": [
        "test_slides.to_gbq('tcga_subtype.test_pred_slide_TCGA_SubT', 'deep-nexus', if_exists='replace')"
      ],
      "execution_count": 116,
      "outputs": [
        {
          "output_type": "stream",
          "text": [
            "1it [00:03,  3.68s/it]\n"
          ],
          "name": "stderr"
        }
      ]
    },
    {
      "cell_type": "code",
      "metadata": {
        "id": "d3BGnPK08LA8"
      },
      "source": [
        "# Viz"
      ],
      "execution_count": 16,
      "outputs": []
    },
    {
      "cell_type": "code",
      "metadata": {
        "id": "U8OIylIVI9oY"
      },
      "source": [
        "project_id  = 'deep-nexus'\n",
        "test_slides = pd.io.gbq.read_gbq('''\n",
        "  SELECT * FROM `deep-nexus.tcga_subtype.test_pred_slide_TCGA_SubT`\n",
        "''', project_id=project_id)"
      ],
      "execution_count": 3,
      "outputs": []
    },
    {
      "cell_type": "code",
      "metadata": {
        "id": "zTwryjudxBuu"
      },
      "source": [
        "test_slides['Prediction'] = test_slides['true_label'] == test_slides['pred_1st']"
      ],
      "execution_count": 4,
      "outputs": []
    },
    {
      "cell_type": "code",
      "metadata": {
        "colab": {
          "base_uri": "https://localhost:8080/",
          "height": 117
        },
        "id": "VUDLmwO0JSPu",
        "outputId": "9296c98a-7118-4c12-eb76-02ea4b498b1a"
      },
      "source": [
        "test_slides.head(1)"
      ],
      "execution_count": 5,
      "outputs": [
        {
          "output_type": "execute_result",
          "data": {
            "text/html": [
              "<div>\n",
              "<style scoped>\n",
              "    .dataframe tbody tr th:only-of-type {\n",
              "        vertical-align: middle;\n",
              "    }\n",
              "\n",
              "    .dataframe tbody tr th {\n",
              "        vertical-align: top;\n",
              "    }\n",
              "\n",
              "    .dataframe thead th {\n",
              "        text-align: right;\n",
              "    }\n",
              "</style>\n",
              "<table border=\"1\" class=\"dataframe\">\n",
              "  <thead>\n",
              "    <tr style=\"text-align: right;\">\n",
              "      <th></th>\n",
              "      <th>slide_barcode</th>\n",
              "      <th>true_label</th>\n",
              "      <th>tile_count</th>\n",
              "      <th>pred_1st</th>\n",
              "      <th>pred_1st_count</th>\n",
              "      <th>pred_1st_ratio</th>\n",
              "      <th>pred_2nd</th>\n",
              "      <th>pred_2nd_count</th>\n",
              "      <th>pred_2nd_ratio</th>\n",
              "      <th>pred_3rd</th>\n",
              "      <th>pred_3rd_count</th>\n",
              "      <th>pred_3rd_ratio</th>\n",
              "      <th>Prediction</th>\n",
              "    </tr>\n",
              "  </thead>\n",
              "  <tbody>\n",
              "    <tr>\n",
              "      <th>0</th>\n",
              "      <td>TCGA-02-0010-01A-01-BS1</td>\n",
              "      <td>GBM</td>\n",
              "      <td>997</td>\n",
              "      <td>GBM</td>\n",
              "      <td>997</td>\n",
              "      <td>1.0</td>\n",
              "      <td>None</td>\n",
              "      <td>NaN</td>\n",
              "      <td>NaN</td>\n",
              "      <td>None</td>\n",
              "      <td>NaN</td>\n",
              "      <td>NaN</td>\n",
              "      <td>True</td>\n",
              "    </tr>\n",
              "  </tbody>\n",
              "</table>\n",
              "</div>"
            ],
            "text/plain": [
              "             slide_barcode true_label  ...  pred_3rd_ratio Prediction\n",
              "0  TCGA-02-0010-01A-01-BS1        GBM  ...             NaN       True\n",
              "\n",
              "[1 rows x 13 columns]"
            ]
          },
          "metadata": {
            "tags": []
          },
          "execution_count": 5
        }
      ]
    },
    {
      "cell_type": "code",
      "metadata": {
        "id": "cOtNIStmIpFT"
      },
      "source": [
        "test_slides.sort_values(by='true_label', inplace=True)"
      ],
      "execution_count": 6,
      "outputs": []
    },
    {
      "cell_type": "code",
      "metadata": {
        "colab": {
          "base_uri": "https://localhost:8080/",
          "height": 458
        },
        "id": "dRBp7Gn-wMIm",
        "outputId": "4caedd91-e063-445c-f262-f2a4792f1d80"
      },
      "source": [
        "g = sns.catplot(data=test_slides, x='true_label', hue='Prediction', kind='count',\n",
        "                height=6, aspect=3, palette=sns.color_palette(['red', 'green']))\n",
        "g.set_xticklabels(rotation=90);"
      ],
      "execution_count": 7,
      "outputs": [
        {
          "output_type": "display_data",
          "data": {
            "image/png": "[encoded data removed]",
            "text/plain": [
              "<Figure size 1357.25x432 with 1 Axes>"
            ]
          },
          "metadata": {
            "tags": [],
            "needs_background": "light"
          }
        }
      ]
    },
    {
      "cell_type": "code",
      "metadata": {
        "id": "cKo3JhX1Homp"
      },
      "source": [
        "subT_acc  = test_slides[['true_label','pred_1st']].groupby('true_label').agg(lambda x: accuracy_score(x.true_label, x.pred_1st)).reset_index()"
      ],
      "execution_count": 13,
      "outputs": []
    },
    {
      "cell_type": "code",
      "metadata": {
        "id": "7nIE3DjlIVSu"
      },
      "source": [
        "subT_acc.columns = ['subType',  'top_1_accuracy']"
      ],
      "execution_count": 14,
      "outputs": []
    },
    {
      "cell_type": "code",
      "metadata": {
        "colab": {
          "base_uri": "https://localhost:8080/",
          "height": 474
        },
        "id": "-PpB1ZtCCjOk",
        "outputId": "ba728489-dd50-4b38-d7a8-cb623b923826"
      },
      "source": [
        "g = sns.catplot(data=subT_acc, x='subType', y='top_1_accuracy', kind='bar',\n",
        "                height=6, aspect=3, color='b')\n",
        "g.set_xticklabels(rotation=90);"
      ],
      "execution_count": 16,
      "outputs": [
        {
          "output_type": "display_data",
          "data": {
            "image/png": "[encoded data removed]",
            "text/plain": [
              "<Figure size 1296x432 with 1 Axes>"
            ]
          },
          "metadata": {
            "tags": [],
            "needs_background": "light"
          }
        }
      ]
    }
  ]
}